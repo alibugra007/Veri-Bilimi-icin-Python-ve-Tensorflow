{
 "cells": [
  {
   "cell_type": "code",
   "execution_count": 6,
   "metadata": {},
   "outputs": [],
   "source": [
    "listem=[1,2,3,4,5,6,7,8,9]"
   ]
  },
  {
   "cell_type": "code",
   "execution_count": 7,
   "metadata": {},
   "outputs": [
    {
     "name": "stdout",
     "output_type": "stream",
     "text": [
      "3 hala listede.\n",
      "3 hala listede.\n",
      "3 hala listede.\n",
      "3 hala listede.\n",
      "3 hala listede.\n",
      "3 hala listede.\n",
      "3 hala listede.\n"
     ]
    }
   ],
   "source": [
    "while 3 in listem:\n",
    "    print(\"3 hala listede.\")\n",
    "    listem.pop()"
   ]
  },
  {
   "cell_type": "code",
   "execution_count": 16,
   "metadata": {},
   "outputs": [
    {
     "name": "stdout",
     "output_type": "stream",
     "text": [
      "yeni sayi:5\n",
      "yeni sayi:6\n",
      "yeni sayi:7\n",
      "yeni sayi:8\n",
      "yeni sayi:9\n"
     ]
    }
   ],
   "source": [
    "x=4\n",
    "while x<9:\n",
    "    x+=1\n",
    "    print(f\"yeni sayi:{x}\")"
   ]
  },
  {
   "cell_type": "code",
   "execution_count": null,
   "metadata": {},
   "outputs": [],
   "source": []
  }
 ],
 "metadata": {
  "kernelspec": {
   "display_name": "Python 3",
   "language": "python",
   "name": "python3"
  },
  "language_info": {
   "codemirror_mode": {
    "name": "ipython",
    "version": 3
   },
   "file_extension": ".py",
   "mimetype": "text/x-python",
   "name": "python",
   "nbconvert_exporter": "python",
   "pygments_lexer": "ipython3",
   "version": "3.8.5"
  }
 },
 "nbformat": 4,
 "nbformat_minor": 4
}
