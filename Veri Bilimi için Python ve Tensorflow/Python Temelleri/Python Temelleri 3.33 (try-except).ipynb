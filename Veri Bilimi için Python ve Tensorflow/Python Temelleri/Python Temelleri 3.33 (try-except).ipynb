{
 "cells": [
  {
   "cell_type": "markdown",
   "metadata": {},
   "source": [
    "try DA DENİYOR. EĞER PROGRAM HATA VERİRSE except BLOĞUNA GELİYOR VE PROGRAM ÇÖKMEMİŞ OLUYOR. PROGRAMI ÇÖKMEKTEN KURTARIYOR."
   ]
  },
  {
   "cell_type": "code",
   "execution_count": 1,
   "metadata": {},
   "outputs": [],
   "source": [
    "try:\n",
    "    def hesapla(a,b,islem):\n",
    "        \n",
    "        if islem not in \"+-*/\":\n",
    "            return(\"Lütfen şu işlemlerden biriniz seçiniz +-*/ .\")\n",
    "        if islem ==\"+\":\n",
    "            return (str(a)+\" + \"+str(b)+\" = \"+str(a+b))\n",
    "        if islem==\"-\":\n",
    "            return (str(a)+\" - \"+str(b)+\" = \"+str(a-b)) \n",
    "        if islem==\"*\":\n",
    "            return (str(a)+\" * \"+str(b)+\" = \"+str(a*b))\n",
    "        if islem==\"/\":\n",
    "            return (str(a)+\" / \"+str(b)+\" = \"+str(a/b))\n",
    "except:\n",
    "    print(\"Sorun oluştu. Lütfen teknik ekiple iletişime geçiniz.\")"
   ]
  },
  {
   "cell_type": "code",
   "execution_count": null,
   "metadata": {},
   "outputs": [
    {
     "name": "stdout",
     "output_type": "stream",
     "text": [
      "İşlemi giriniz(+-*/):+\n",
      "İlk sayıyı giriniz:12\n",
      "İkinci sayıyı giriniz:yirmi dört\n",
      "Sorun oluştu. Lütfen teknik ekiple iletişime geçiniz.\n"
     ]
    }
   ],
   "source": [
    "islem_devam=1\n",
    "while(islem_devam==1):\n",
    "    try:\n",
    "        islem=input(\"İşlemi giriniz(+-*/):\")\n",
    "        ilk_sayi=float(input(\"İlk sayıyı giriniz:\"))\n",
    "        ikinci_sayi=float(input(\"İkinci sayıyı giriniz:\"))\n",
    "        \n",
    "        print(hesapla(ilk_sayi,ikinci_sayi,islem))\n",
    "        islem_devam=int(input(\"İşleme devam etmek istiyor musunuz 1-E 0-H\"))\n",
    "\n",
    "        print(\"Program Sonlandırıldı.\")\n",
    "    except:\n",
    "        print(\"Sorun oluştu. Lütfen teknik ekiple iletişime geçiniz.\")"
   ]
  },
  {
   "cell_type": "code",
   "execution_count": null,
   "metadata": {},
   "outputs": [],
   "source": []
  }
 ],
 "metadata": {
  "kernelspec": {
   "display_name": "Python 3",
   "language": "python",
   "name": "python3"
  },
  "language_info": {
   "codemirror_mode": {
    "name": "ipython",
    "version": 3
   },
   "file_extension": ".py",
   "mimetype": "text/x-python",
   "name": "python",
   "nbconvert_exporter": "python",
   "pygments_lexer": "ipython3",
   "version": "3.8.5"
  }
 },
 "nbformat": 4,
 "nbformat_minor": 4
}
