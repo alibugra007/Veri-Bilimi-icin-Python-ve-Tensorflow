{
 "cells": [
  {
   "cell_type": "code",
   "execution_count": 4,
   "metadata": {},
   "outputs": [
    {
     "name": "stdout",
     "output_type": "stream",
     "text": [
      "x:60\n"
     ]
    }
   ],
   "source": [
    "x=int(input(\"x:\"))"
   ]
  },
  {
   "cell_type": "code",
   "execution_count": 5,
   "metadata": {},
   "outputs": [
    {
     "name": "stdout",
     "output_type": "stream",
     "text": [
      "y:70\n"
     ]
    }
   ],
   "source": [
    "y=int(input(\"y:\"))"
   ]
  },
  {
   "cell_type": "code",
   "execution_count": 6,
   "metadata": {},
   "outputs": [
    {
     "name": "stdout",
     "output_type": "stream",
     "text": [
      "60<70\n"
     ]
    }
   ],
   "source": [
    "if x>y:\n",
    "    print(f\"{x}>{y}\")\n",
    "elif x<y:\n",
    "    print(f\"{x}<{y}\")\n",
    "else:\n",
    "    print(\"Sorun oluştu.\")"
   ]
  },
  {
   "cell_type": "markdown",
   "metadata": {},
   "source": [
    "YENİ UYGULAMA ALIŞTIRMA"
   ]
  },
  {
   "cell_type": "code",
   "execution_count": 7,
   "metadata": {},
   "outputs": [
    {
     "name": "stdout",
     "output_type": "stream",
     "text": [
      "Choose a hero:Batman\n"
     ]
    }
   ],
   "source": [
    "my_hero=input(\"Choose a hero:\")"
   ]
  },
  {
   "cell_type": "code",
   "execution_count": 8,
   "metadata": {},
   "outputs": [
    {
     "name": "stdout",
     "output_type": "stream",
     "text": [
      "Congrats, you choosed Batman so you won.\n"
     ]
    }
   ],
   "source": [
    "if my_hero ==\"Batman\":\n",
    "    print(\"Congrats, you choosed Batman so you won.\")\n",
    "elif my_hero==\"Superman\":\n",
    "    print(\"Superman is slightly powerless than Batman so you lose :( \")\n",
    "elif my_hero==\"Ironman\":\n",
    "    print(\"Hmm, you have a fine palate, Ironman has lots of advantages against others. Nice choice.\")\n",
    "else:\n",
    "    print(\"You discovered a new talent or we couldn't recognize who it is.\")"
   ]
  },
  {
   "cell_type": "markdown",
   "metadata": {},
   "source": [
    "UFAK BİR UYGULAMA"
   ]
  },
  {
   "cell_type": "code",
   "execution_count": 9,
   "metadata": {},
   "outputs": [],
   "source": [
    "karakterCanli=True"
   ]
  },
  {
   "cell_type": "code",
   "execution_count": 12,
   "metadata": {},
   "outputs": [
    {
     "name": "stdout",
     "output_type": "stream",
     "text": [
      "your character is still alive.\n"
     ]
    }
   ],
   "source": [
    "if karakterCanli: # burada karakterCanli'nin otomatik değerine eşit mi diyoruz\n",
    "    print(\"your character is still alive.\")\n",
    "else:\n",
    "    print(\"oh no ! your character is dead.\")"
   ]
  },
  {
   "cell_type": "code",
   "execution_count": 17,
   "metadata": {},
   "outputs": [],
   "source": [
    "benim_Ad_Soyad=\"Ali Buğra Oktay\""
   ]
  },
  {
   "cell_type": "markdown",
   "metadata": {},
   "source": [
    "if \"yazi\" in degisken: # BU degisken İN İÇİNDE \"yazi\" VAR MI DEMEKTİR"
   ]
  },
  {
   "cell_type": "code",
   "execution_count": 23,
   "metadata": {},
   "outputs": [
    {
     "name": "stdout",
     "output_type": "stream",
     "text": [
      "string is exist in this variable\n"
     ]
    }
   ],
   "source": [
    "if \"Buğra\" in benim_Ad_Soyad: # yazdığımız şey değişkende var mı diye bakıyor\n",
    "    print(\"string is exist in this variable\")\n",
    "else:\n",
    "    print(\"not exist\")"
   ]
  },
  {
   "cell_type": "markdown",
   "metadata": {},
   "source": [
    "BUNUN İNT LİSTELİ ÖRNEĞİ"
   ]
  },
  {
   "cell_type": "code",
   "execution_count": 25,
   "metadata": {},
   "outputs": [],
   "source": [
    "benimListem=[10,20,30,40,50]\n",
    "if 60 in benimListem:\n",
    "    print(\"var\")"
   ]
  },
  {
   "cell_type": "markdown",
   "metadata": {},
   "source": [
    "SÖZLÜKLÜ ÖRNEĞİ"
   ]
  },
  {
   "cell_type": "code",
   "execution_count": 50,
   "metadata": {},
   "outputs": [],
   "source": [
    "benimSozluk={\"muz\":88.7,\"elma\":100,\"karpuz\":30.4,\"birim\":\"kcal\"}"
   ]
  },
  {
   "cell_type": "code",
   "execution_count": 54,
   "metadata": {},
   "outputs": [
    {
     "data": {
      "text/plain": [
       "dict_keys(['muz', 'elma', 'karpuz', 'birim'])"
      ]
     },
     "execution_count": 54,
     "metadata": {},
     "output_type": "execute_result"
    }
   ],
   "source": [
    "benimSozluk.keys()"
   ]
  },
  {
   "cell_type": "code",
   "execution_count": 57,
   "metadata": {},
   "outputs": [
    {
     "name": "stdout",
     "output_type": "stream",
     "text": [
      "meyve:karpuz\n"
     ]
    }
   ],
   "source": [
    "meyve=input(\"meyve:\")"
   ]
  },
  {
   "cell_type": "markdown",
   "metadata": {},
   "source": [
    "# !!!!! ÇOK ÖNEMLİ !!!!!"
   ]
  },
  {
   "cell_type": "markdown",
   "metadata": {},
   "source": [
    "PRİNT İÇİNDE BİRDEN FAZLA TIRNAK KULLANACAĞIN ZAMAN TEK TIRNAK KULLAN "
   ]
  },
  {
   "cell_type": "markdown",
   "metadata": {},
   "source": [
    "AŞAĞIDA benimSozluk[ ] İÇİNDE TEK TIRNAK KULLANMAZSAN HATA VERİR"
   ]
  },
  {
   "cell_type": "code",
   "execution_count": 60,
   "metadata": {},
   "outputs": [
    {
     "name": "stdout",
     "output_type": "stream",
     "text": [
      "karpuz : 30.4 kcal\n"
     ]
    }
   ],
   "source": [
    "if meyve in benimSozluk.keys():\n",
    "    print(f\"{meyve} : {benimSozluk[meyve]} {benimSozluk['birim']}\")"
   ]
  },
  {
   "cell_type": "code",
   "execution_count": null,
   "metadata": {},
   "outputs": [],
   "source": []
  }
 ],
 "metadata": {
  "kernelspec": {
   "display_name": "Python 3",
   "language": "python",
   "name": "python3"
  },
  "language_info": {
   "codemirror_mode": {
    "name": "ipython",
    "version": 3
   },
   "file_extension": ".py",
   "mimetype": "text/x-python",
   "name": "python",
   "nbconvert_exporter": "python",
   "pygments_lexer": "ipython3",
   "version": "3.8.5"
  }
 },
 "nbformat": 4,
 "nbformat_minor": 4
}
