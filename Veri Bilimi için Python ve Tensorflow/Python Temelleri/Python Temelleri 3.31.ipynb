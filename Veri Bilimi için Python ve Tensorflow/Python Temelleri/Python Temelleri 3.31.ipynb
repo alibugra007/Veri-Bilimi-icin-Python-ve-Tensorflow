{
 "cells": [
  {
   "cell_type": "markdown",
   "metadata": {},
   "source": [
    "# scope"
   ]
  },
  {
   "cell_type": "code",
   "execution_count": 12,
   "metadata": {},
   "outputs": [],
   "source": [
    "numara=20\n",
    "\n",
    "def carpma(rakam):\n",
    "    numara=10\n",
    "    return numara*rakam"
   ]
  },
  {
   "cell_type": "code",
   "execution_count": 21,
   "metadata": {},
   "outputs": [
    {
     "data": {
      "text/plain": [
       "50"
      ]
     },
     "execution_count": 21,
     "metadata": {},
     "output_type": "execute_result"
    }
   ],
   "source": [
    "carpma(5)"
   ]
  },
  {
   "cell_type": "markdown",
   "metadata": {},
   "source": [
    "# Local, Enclosing, Globa , Built-In"
   ]
  },
  {
   "cell_type": "markdown",
   "metadata": {},
   "source": [
    "SAĞDAN SOLA DOĞRU ÖZELLEŞİR.\n",
    "SOLDAN SAĞA ÖNCELİK SIRASI\n"
   ]
  },
  {
   "cell_type": "code",
   "execution_count": 20,
   "metadata": {},
   "outputs": [
    {
     "name": "stdout",
     "output_type": "stream",
     "text": [
      "buğra\n",
      "oktay\n"
     ]
    },
    {
     "data": {
      "text/plain": [
       "'ali'"
      ]
     },
     "execution_count": 20,
     "metadata": {},
     "output_type": "execute_result"
    }
   ],
   "source": [
    "benimAdim=\"ali\"\n",
    "#Global\n",
    "\n",
    "def function():\n",
    "    benimAdim=\"buğra\"\n",
    "    #Enclosing\n",
    "    print(benimAdim)\n",
    "    def icfunction():\n",
    "        benimAdim=\"oktay\"\n",
    "        #Local\n",
    "        \n",
    "        print(benimAdim)\n",
    "    icfunction()\n",
    "\n",
    "function()\n",
    "benimAdim"
   ]
  },
  {
   "cell_type": "markdown",
   "metadata": {},
   "source": [
    "BİR ÖRNEK DAHA"
   ]
  },
  {
   "cell_type": "markdown",
   "metadata": {},
   "source": [
    "12 VERDİK. 12 Yİ YAZDIRDI. y Yİ 6 YAPTI. YENİ y Yİ YAZDI. y Yİ DÖNDÜRDÜ."
   ]
  },
  {
   "cell_type": "code",
   "execution_count": 23,
   "metadata": {},
   "outputs": [
    {
     "name": "stdout",
     "output_type": "stream",
     "text": [
      "12\n",
      "6\n"
     ]
    },
    {
     "data": {
      "text/plain": [
       "6"
      ]
     },
     "execution_count": 23,
     "metadata": {},
     "output_type": "execute_result"
    }
   ],
   "source": [
    "y=10\n",
    "\n",
    "def yeniOrnek(y):\n",
    "    print(y)\n",
    "    y=6\n",
    "    print(y)\n",
    "    return y\n",
    "\n",
    "yeniOrnek(12)"
   ]
  },
  {
   "cell_type": "code",
   "execution_count": 26,
   "metadata": {},
   "outputs": [
    {
     "data": {
      "text/plain": [
       "10"
      ]
     },
     "execution_count": 26,
     "metadata": {},
     "output_type": "execute_result"
    }
   ],
   "source": [
    "y\n",
    "# y burada global"
   ]
  },
  {
   "cell_type": "markdown",
   "metadata": {},
   "source": [
    "BAŞKA BİR ÖRNEK"
   ]
  },
  {
   "cell_type": "code",
   "execution_count": 36,
   "metadata": {},
   "outputs": [],
   "source": [
    "x=10\n",
    "\n",
    "def ornek2():\n",
    "    global x\n",
    "    x=4\n",
    "    print(x)"
   ]
  },
  {
   "cell_type": "markdown",
   "metadata": {},
   "source": [
    "İÇERİDEKİ X GLOBAL TANIMLI OLDUĞU İÇİN DIŞARIDAKİNDEN ÜSTÜN OLUYOR. "
   ]
  },
  {
   "cell_type": "code",
   "execution_count": 39,
   "metadata": {
    "scrolled": true
   },
   "outputs": [
    {
     "name": "stdout",
     "output_type": "stream",
     "text": [
      "4\n"
     ]
    }
   ],
   "source": [
    "ornek2()"
   ]
  },
  {
   "cell_type": "markdown",
   "metadata": {},
   "source": [
    "ARTIK GLOBAL DEĞİŞKEN FONKSİYONUN İÇİNDEKİ x O YÜZDEN x ÇAĞRILINCA O GELİCEK"
   ]
  },
  {
   "cell_type": "code",
   "execution_count": 38,
   "metadata": {},
   "outputs": [
    {
     "data": {
      "text/plain": [
       "4"
      ]
     },
     "execution_count": 38,
     "metadata": {},
     "output_type": "execute_result"
    }
   ],
   "source": [
    "x"
   ]
  },
  {
   "cell_type": "code",
   "execution_count": null,
   "metadata": {},
   "outputs": [],
   "source": []
  }
 ],
 "metadata": {
  "kernelspec": {
   "display_name": "Python 3",
   "language": "python",
   "name": "python3"
  },
  "language_info": {
   "codemirror_mode": {
    "name": "ipython",
    "version": 3
   },
   "file_extension": ".py",
   "mimetype": "text/x-python",
   "name": "python",
   "nbconvert_exporter": "python",
   "pygments_lexer": "ipython3",
   "version": "3.8.5"
  }
 },
 "nbformat": 4,
 "nbformat_minor": 4
}
