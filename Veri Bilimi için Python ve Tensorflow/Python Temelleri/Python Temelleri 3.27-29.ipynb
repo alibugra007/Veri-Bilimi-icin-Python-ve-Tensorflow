{
 "cells": [
  {
   "cell_type": "code",
   "execution_count": 6,
   "metadata": {},
   "outputs": [],
   "source": [
    "benim_ad_soyad=\"Ali Buğra Oktay\""
   ]
  },
  {
   "cell_type": "markdown",
   "metadata": {},
   "source": [
    "UPPER BÜYÜK"
   ]
  },
  {
   "cell_type": "code",
   "execution_count": 7,
   "metadata": {},
   "outputs": [
    {
     "data": {
      "text/plain": [
       "'ALI BUĞRA OKTAY'"
      ]
     },
     "execution_count": 7,
     "metadata": {},
     "output_type": "execute_result"
    }
   ],
   "source": [
    "benim_ad_soyad.upper()"
   ]
  },
  {
   "cell_type": "markdown",
   "metadata": {},
   "source": [
    "LOWER KÜÇÜK"
   ]
  },
  {
   "cell_type": "code",
   "execution_count": 8,
   "metadata": {},
   "outputs": [
    {
     "data": {
      "text/plain": [
       "'ali buğra oktay'"
      ]
     },
     "execution_count": 8,
     "metadata": {},
     "output_type": "execute_result"
    }
   ],
   "source": [
    "benim_ad_soyad.lower()"
   ]
  },
  {
   "cell_type": "code",
   "execution_count": 9,
   "metadata": {},
   "outputs": [
    {
     "data": {
      "text/plain": [
       "'Ali Buğra Oktay'"
      ]
     },
     "execution_count": 9,
     "metadata": {},
     "output_type": "execute_result"
    }
   ],
   "source": [
    "benim_ad_soyad"
   ]
  },
  {
   "cell_type": "code",
   "execution_count": 15,
   "metadata": {},
   "outputs": [
    {
     "name": "stdout",
     "output_type": "stream",
     "text": [
      "Help on built-in function upper:\n",
      "\n",
      "upper() method of builtins.str instance\n",
      "    Return a copy of the string converted to uppercase.\n",
      "\n"
     ]
    }
   ],
   "source": [
    "help(benim_ad_soyad.upper)"
   ]
  },
  {
   "cell_type": "markdown",
   "metadata": {},
   "source": [
    "def fonksiyon(): \n",
    "BÖYLE TANIMLANIR.\n",
    "PARANTEZ KOYMAK ÇALIŞTIR ANLAMINA GELİR"
   ]
  },
  {
   "cell_type": "code",
   "execution_count": 16,
   "metadata": {},
   "outputs": [],
   "source": [
    "def ilk_Fonksiyon():\n",
    "    print(\"ilk fonksiyon\")\n",
    "    "
   ]
  },
  {
   "cell_type": "code",
   "execution_count": 17,
   "metadata": {},
   "outputs": [
    {
     "name": "stdout",
     "output_type": "stream",
     "text": [
      "ilk fonksiyon\n"
     ]
    }
   ],
   "source": [
    "ilk_Fonksiyon()"
   ]
  },
  {
   "cell_type": "markdown",
   "metadata": {},
   "source": [
    "## input & return"
   ]
  },
  {
   "cell_type": "code",
   "execution_count": 31,
   "metadata": {},
   "outputs": [],
   "source": [
    "def hello_world(creature_name):\n",
    "    print(f\"Hello World, hello {creature_name}. How are you ?\")"
   ]
  },
  {
   "cell_type": "code",
   "execution_count": 33,
   "metadata": {},
   "outputs": [
    {
     "name": "stdout",
     "output_type": "stream",
     "text": [
      "Hello World, hello Agent 47. How are you ?\n"
     ]
    }
   ],
   "source": [
    "hello_world(\"Agent 47\")"
   ]
  },
  {
   "cell_type": "markdown",
   "metadata": {},
   "source": [
    "FONKSİYONA PARAMETRE VERMEK ZORUNDAYIZ. VERMEDEN NASIL ÇALIŞTIRABİLİRİZ ? DEFAULT DEGER TANIMLAYARAK."
   ]
  },
  {
   "cell_type": "code",
   "execution_count": 34,
   "metadata": {},
   "outputs": [],
   "source": [
    "def merhaba(isim=\"ali\"):\n",
    "    print(f\"merhaba, {isim}.\")"
   ]
  },
  {
   "cell_type": "code",
   "execution_count": 36,
   "metadata": {},
   "outputs": [
    {
     "name": "stdout",
     "output_type": "stream",
     "text": [
      "merhaba, alibugra007.\n"
     ]
    }
   ],
   "source": [
    "merhaba(\"alibugra007\")"
   ]
  },
  {
   "cell_type": "markdown",
   "metadata": {},
   "source": [
    "ALIŞTIRMA YAPALIM"
   ]
  },
  {
   "cell_type": "code",
   "execution_count": 37,
   "metadata": {},
   "outputs": [],
   "source": [
    "def addition(number1,number2):\n",
    "    result=number1+number2\n",
    "    return result"
   ]
  },
  {
   "cell_type": "code",
   "execution_count": 38,
   "metadata": {},
   "outputs": [
    {
     "name": "stdout",
     "output_type": "stream",
     "text": [
      "16 + 92 = 108\n"
     ]
    }
   ],
   "source": [
    "x=16\n",
    "y=92\n",
    "print(f\"{x} + {y} = {addition(x,y)}\")"
   ]
  },
  {
   "cell_type": "code",
   "execution_count": 39,
   "metadata": {},
   "outputs": [],
   "source": [
    "def addition_v2(number1,number2,number3):\n",
    "    result=number1+number2+number3\n",
    "    return result"
   ]
  },
  {
   "cell_type": "code",
   "execution_count": 40,
   "metadata": {},
   "outputs": [
    {
     "name": "stdout",
     "output_type": "stream",
     "text": [
      "17 + 1003 + -512.7 = 507.29999999999995\n"
     ]
    }
   ],
   "source": [
    "a=17\n",
    "b=1003\n",
    "c=-512.7\n",
    "print(f\"{a} + {b} + {c} = {addition_v2(a,b,c)}\")"
   ]
  },
  {
   "cell_type": "markdown",
   "metadata": {},
   "source": [
    "FONKSİYONLAR DEĞER DÖNDÜRMEZSE TİPİ OLMAZ"
   ]
  },
  {
   "cell_type": "code",
   "execution_count": 51,
   "metadata": {},
   "outputs": [
    {
     "data": {
      "text/plain": [
       "NoneType"
      ]
     },
     "execution_count": 51,
     "metadata": {},
     "output_type": "execute_result"
    }
   ],
   "source": [
    "def addition_v3(number1,number2):\n",
    "    result=(number1+number2)/7\n",
    "    \n",
    "deger=addition_v3(10,20)\n",
    "type(deger)"
   ]
  },
  {
   "cell_type": "markdown",
   "metadata": {},
   "source": [
    "AMA return OLAN FONKSİYONLAR NEYİ DÖNDÜRÜYORLARSA O TİPTE OLURLAR"
   ]
  },
  {
   "cell_type": "code",
   "execution_count": 56,
   "metadata": {},
   "outputs": [
    {
     "data": {
      "text/plain": [
       "int"
      ]
     },
     "execution_count": 56,
     "metadata": {},
     "output_type": "execute_result"
    }
   ],
   "source": [
    "deger2=addition_v2(10,20,30)\n",
    "type(deger2)"
   ]
  },
  {
   "cell_type": "markdown",
   "metadata": {},
   "source": [
    "# args & kwargs \n",
    "BİR FONKSİYONA 5 DEGER GONDERMEK İSTİYORUZ BUNUN İÇİN FONKSİYONA \n",
    "5 DEGİSKEN ATAMAMIZA GEREK YOK."
   ]
  },
  {
   "cell_type": "markdown",
   "metadata": {},
   "source": [
    "*args STRİNG İNT VS İŞLEMLERİ İÇİN KULLANILABİLİR\n",
    "TUPLE DONDURUR"
   ]
  },
  {
   "cell_type": "code",
   "execution_count": 1,
   "metadata": {},
   "outputs": [],
   "source": [
    "def func(*args):\n",
    "    return sum(args)"
   ]
  },
  {
   "cell_type": "code",
   "execution_count": 2,
   "metadata": {},
   "outputs": [
    {
     "data": {
      "text/plain": [
       "45"
      ]
     },
     "execution_count": 2,
     "metadata": {},
     "output_type": "execute_result"
    }
   ],
   "source": [
    "func(1,2,3,4,5,6,7,8,9)"
   ]
  },
  {
   "cell_type": "markdown",
   "metadata": {},
   "source": [
    "BİR ALIŞTIRMA DAHA"
   ]
  },
  {
   "cell_type": "code",
   "execution_count": 3,
   "metadata": {},
   "outputs": [],
   "source": [
    "def display_func(*args):\n",
    "    print(args)"
   ]
  },
  {
   "cell_type": "code",
   "execution_count": 5,
   "metadata": {},
   "outputs": [
    {
     "name": "stdout",
     "output_type": "stream",
     "text": [
      "(166, 66)\n"
     ]
    },
    {
     "data": {
      "text/plain": [
       "NoneType"
      ]
     },
     "execution_count": 5,
     "metadata": {},
     "output_type": "execute_result"
    }
   ],
   "source": [
    "type(display_func(166,66))"
   ]
  },
  {
   "cell_type": "code",
   "execution_count": 13,
   "metadata": {},
   "outputs": [],
   "source": [
    "def display_func2(*args):\n",
    "    return args"
   ]
  },
  {
   "cell_type": "markdown",
   "metadata": {},
   "source": [
    "BU SEFER TUPLE DONDURECEK"
   ]
  },
  {
   "cell_type": "code",
   "execution_count": 14,
   "metadata": {},
   "outputs": [
    {
     "data": {
      "text/plain": [
       "tuple"
      ]
     },
     "execution_count": 14,
     "metadata": {},
     "output_type": "execute_result"
    }
   ],
   "source": [
    "type(display_func2(166,66))"
   ]
  },
  {
   "cell_type": "markdown",
   "metadata": {},
   "source": [
    "ANAHTAR DEGER EŞLEŞMESİ GİBİ DURUMLAR İÇİN **kwargs\n",
    "dict SOZLUK DONDURUR ÇÜNKÜ"
   ]
  },
  {
   "cell_type": "markdown",
   "metadata": {},
   "source": [
    "HATTA  key word args DAN GELİYOR BİLE OLABİLİR AKLINDA BÖYLE KALSIN"
   ]
  },
  {
   "cell_type": "code",
   "execution_count": 15,
   "metadata": {},
   "outputs": [],
   "source": [
    "def display_func3(**kwargs):\n",
    "    return(kwargs)"
   ]
  },
  {
   "cell_type": "code",
   "execution_count": 19,
   "metadata": {},
   "outputs": [
    {
     "data": {
      "text/plain": [
       "dict"
      ]
     },
     "execution_count": 19,
     "metadata": {},
     "output_type": "execute_result"
    }
   ],
   "source": [
    "type(display_func3(muz=100,elma=200,karpuz=67))"
   ]
  },
  {
   "cell_type": "markdown",
   "metadata": {},
   "source": [
    "ALIŞTIRMA"
   ]
  },
  {
   "cell_type": "code",
   "execution_count": 3,
   "metadata": {},
   "outputs": [],
   "source": [
    "def keyWordCheck(**kwargs):\n",
    "    if 'necmi' in kwargs:\n",
    "        print(\"hadi nejmi\")\n",
    "    else:\n",
    "        print(\"nejmiii\")"
   ]
  },
  {
   "cell_type": "code",
   "execution_count": 4,
   "metadata": {},
   "outputs": [
    {
     "name": "stdout",
     "output_type": "stream",
     "text": [
      "hadi nejmi\n"
     ]
    }
   ],
   "source": [
    "keyWordCheck(necmi=70,ahmet=60)"
   ]
  },
  {
   "cell_type": "code",
   "execution_count": 6,
   "metadata": {},
   "outputs": [],
   "source": [
    "def keyWordCheck2(*args):\n",
    "    if 'necmi' in args:\n",
    "        print(\"hadi nejmi\")\n",
    "    else:\n",
    "        print(\"nejmiii\")"
   ]
  },
  {
   "cell_type": "code",
   "execution_count": 9,
   "metadata": {},
   "outputs": [
    {
     "name": "stdout",
     "output_type": "stream",
     "text": [
      "hadi nejmi\n"
     ]
    }
   ],
   "source": [
    "keyWordCheck2(\"necmi\")"
   ]
  },
  {
   "cell_type": "markdown",
   "metadata": {},
   "source": [
    "SON ÖRNEK"
   ]
  },
  {
   "cell_type": "code",
   "execution_count": 33,
   "metadata": {},
   "outputs": [],
   "source": [
    "def deneme(*args):\n",
    "    string=args\n",
    "    print((string))"
   ]
  },
  {
   "cell_type": "code",
   "execution_count": 34,
   "metadata": {},
   "outputs": [
    {
     "name": "stdout",
     "output_type": "stream",
     "text": [
      "('ali', 'ahmet', 'necmi')\n"
     ]
    }
   ],
   "source": [
    "deneme(\"ali\",\"ahmet\",\"necmi\")"
   ]
  },
  {
   "cell_type": "code",
   "execution_count": null,
   "metadata": {},
   "outputs": [],
   "source": []
  }
 ],
 "metadata": {
  "kernelspec": {
   "display_name": "Python 3",
   "language": "python",
   "name": "python3"
  },
  "language_info": {
   "codemirror_mode": {
    "name": "ipython",
    "version": 3
   },
   "file_extension": ".py",
   "mimetype": "text/x-python",
   "name": "python",
   "nbconvert_exporter": "python",
   "pygments_lexer": "ipython3",
   "version": "3.8.5"
  }
 },
 "nbformat": 4,
 "nbformat_minor": 4
}
