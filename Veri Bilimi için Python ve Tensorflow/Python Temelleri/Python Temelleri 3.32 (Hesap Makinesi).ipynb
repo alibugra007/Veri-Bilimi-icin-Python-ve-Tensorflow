{
 "cells": [
  {
   "cell_type": "code",
   "execution_count": 3,
   "metadata": {},
   "outputs": [],
   "source": [
    "def hesapla(a,b,islem):\n",
    "    if islem ==\"+\":\n",
    "        return (str(a)+\" + \"+str(b)+\" = \"+str(a+b))\n",
    "    if islem==\"-\":\n",
    "        return (str(a)+\" - \"+str(b)+\" = \"+str(a-b)) \n",
    "    if islem==\"*\":\n",
    "        return (str(a)+\" * \"+str(b)+\" = \"+str(a*b))\n",
    "    if islem==\"/\":\n",
    "        return (str(a)+\" / \"+str(b)+\" = \"+str(a/b))"
   ]
  },
  {
   "cell_type": "code",
   "execution_count": 6,
   "metadata": {},
   "outputs": [
    {
     "name": "stdout",
     "output_type": "stream",
     "text": [
      "İşlemi giriniz(+-*/):/\n",
      "İlk sayıyı giriniz:15\n",
      "İkinci sayıyı giriniz:3\n",
      "15.0 / 3.0 = 5.0\n",
      "İşleme devam etmek istiyor musunuz 1-E 0-H1\n",
      "İşlemi giriniz(+-*/):*\n",
      "İlk sayıyı giriniz:15\n",
      "İkinci sayıyı giriniz:5\n",
      "15.0 * 5.0 = 75.0\n",
      "İşleme devam etmek istiyor musunuz 1-E 0-H0\n",
      "Program Sonlandırıldı.\n"
     ]
    }
   ],
   "source": [
    "islem_devam=1\n",
    "while(islem_devam==1):\n",
    "    \n",
    "    islem=input(\"İşlemi giriniz(+-*/):\")\n",
    "    ilk_sayi=float(input(\"İlk sayıyı giriniz:\"))\n",
    "    ikinci_sayi=float(input(\"İkinci sayıyı giriniz:\"))\n",
    "\n",
    "    print(hesapla(ilk_sayi,ikinci_sayi,islem))\n",
    "    islem_devam=int(input(\"İşleme devam etmek istiyor musunuz 1-E 0-H\"))\n",
    "    \n",
    "print(\"Program Sonlandırıldı.\")"
   ]
  },
  {
   "cell_type": "code",
   "execution_count": null,
   "metadata": {},
   "outputs": [],
   "source": []
  }
 ],
 "metadata": {
  "kernelspec": {
   "display_name": "Python 3",
   "language": "python",
   "name": "python3"
  },
  "language_info": {
   "codemirror_mode": {
    "name": "ipython",
    "version": 3
   },
   "file_extension": ".py",
   "mimetype": "text/x-python",
   "name": "python",
   "nbconvert_exporter": "python",
   "pygments_lexer": "ipython3",
   "version": "3.8.5"
  }
 },
 "nbformat": 4,
 "nbformat_minor": 4
}
