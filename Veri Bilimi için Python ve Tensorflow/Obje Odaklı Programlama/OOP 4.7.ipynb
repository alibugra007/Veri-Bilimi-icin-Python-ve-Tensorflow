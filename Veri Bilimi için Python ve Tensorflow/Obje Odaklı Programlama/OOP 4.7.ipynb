{
 "cells": [
  {
   "cell_type": "markdown",
   "metadata": {},
   "source": [
    "# BU ÖZEL METODLAR OLUŞTURDUĞUMUZ OBJEYE YAPACAĞIMIZ EYLEMLERE GÖRE HAZIRLANIR\n",
    "\n",
    "# ÖRNEK OBJEYİ PRİNT EDİCEZ __str__ KULLANIRIZ"
   ]
  },
  {
   "cell_type": "code",
   "execution_count": 52,
   "metadata": {},
   "outputs": [],
   "source": [
    "class drivers():\n",
    "    \n",
    "    def __init__(self,name,driving_level):\n",
    "        self.name=name\n",
    "        self.driving_level=driving_level\n",
    "        \n",
    "    def __str__(self): # yazdırınca ne döndüreceğini belirleyen method\n",
    "        return f\"{self.name} : {self.driving_level}\"\n",
    "    \n",
    "    def __len__(self):\n",
    "        return len(self.name)"
   ]
  },
  {
   "cell_type": "code",
   "execution_count": 53,
   "metadata": {},
   "outputs": [],
   "source": [
    "dom=drivers(\"dominic toretto\",\"s+\")\n",
    "brian=drivers(\"brian o'conner\",\"s\")"
   ]
  },
  {
   "cell_type": "code",
   "execution_count": 54,
   "metadata": {},
   "outputs": [
    {
     "name": "stdout",
     "output_type": "stream",
     "text": [
      "dominic toretto : s+\n"
     ]
    }
   ],
   "source": [
    "print(dom)"
   ]
  },
  {
   "cell_type": "code",
   "execution_count": 55,
   "metadata": {},
   "outputs": [
    {
     "data": {
      "text/plain": [
       "15"
      ]
     },
     "execution_count": 55,
     "metadata": {},
     "output_type": "execute_result"
    }
   ],
   "source": [
    "len(dom)"
   ]
  },
  {
   "cell_type": "code",
   "execution_count": 50,
   "metadata": {},
   "outputs": [
    {
     "data": {
      "text/plain": [
       "14"
      ]
     },
     "execution_count": 50,
     "metadata": {},
     "output_type": "execute_result"
    }
   ],
   "source": [
    "len(brian)"
   ]
  },
  {
   "cell_type": "code",
   "execution_count": null,
   "metadata": {},
   "outputs": [],
   "source": []
  }
 ],
 "metadata": {
  "kernelspec": {
   "display_name": "Python 3",
   "language": "python",
   "name": "python3"
  },
  "language_info": {
   "codemirror_mode": {
    "name": "ipython",
    "version": 3
   },
   "file_extension": ".py",
   "mimetype": "text/x-python",
   "name": "python",
   "nbconvert_exporter": "python",
   "pygments_lexer": "ipython3",
   "version": "3.8.5"
  }
 },
 "nbformat": 4,
 "nbformat_minor": 4
}
