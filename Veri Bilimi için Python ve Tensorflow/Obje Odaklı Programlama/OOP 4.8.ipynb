{
 "cells": [
  {
   "cell_type": "markdown",
   "metadata": {},
   "source": [
    "# try & except & else & finally"
   ]
  },
  {
   "cell_type": "code",
   "execution_count": 2,
   "metadata": {
    "scrolled": true
   },
   "outputs": [
    {
     "name": "stdout",
     "output_type": "stream",
     "text": [
      "Please enter your number:981\n",
      "Adam geldi ya adam.\n",
      "Bitti.\n",
      "devam etmek istiyorsanız 1 yazın yoksa herhangi bir şey giriniz.1\n",
      "Please enter your number:892\n",
      "Adam geldi ya adam.\n",
      "Bitti.\n",
      "devam etmek istiyorsanız 1 yazın yoksa herhangi bir şey giriniz.2\n"
     ]
    }
   ],
   "source": [
    "i=1\n",
    "while i==1:\n",
    "    try:\n",
    "        phone_number=int(input(\"Please enter your number:\"))\n",
    "    except:\n",
    "        print(\"Please enter a real number.\")\n",
    "        continue\n",
    "    else:\n",
    "        print(\"Adam geldi ya adam.\")\n",
    "        \n",
    "    finally:\n",
    "        print(\"Bitti.\")\n",
    "        i=int(input(\"devam etmek istiyorsanız 1 yazın yoksa herhangi bir şey giriniz.\"))\n"
   ]
  },
  {
   "cell_type": "markdown",
   "metadata": {},
   "source": [
    "tryda dener\n",
    "\n",
    "else try da yapılan başarılı olunca gidilen yer.\n",
    "\n",
    "finally her türlü gidilen yer (break olsa da gidilir)\n",
    "\n",
    "except tryda olmayınca oraya gider.\n",
    "\n",
    "HATIRLATMA !! continue bloğun başına alır. break döngüyü kırar."
   ]
  },
  {
   "cell_type": "code",
   "execution_count": null,
   "metadata": {},
   "outputs": [],
   "source": []
  }
 ],
 "metadata": {
  "kernelspec": {
   "display_name": "Python 3",
   "language": "python",
   "name": "python3"
  },
  "language_info": {
   "codemirror_mode": {
    "name": "ipython",
    "version": 3
   },
   "file_extension": ".py",
   "mimetype": "text/x-python",
   "name": "python",
   "nbconvert_exporter": "python",
   "pygments_lexer": "ipython3",
   "version": "3.8.5"
  }
 },
 "nbformat": 4,
 "nbformat_minor": 4
}
