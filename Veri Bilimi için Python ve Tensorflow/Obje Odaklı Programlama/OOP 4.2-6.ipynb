{
 "cells": [
  {
   "cell_type": "markdown",
   "metadata": {},
   "source": [
    "init INITIALIZE DEN GELİYOR CONSTRUCTOR GİBİ ÇALIŞIYOR. NESNE OLUŞTUĞUNDA OTOMATİK ÇAĞIRILIYOR BU FONKSİYON."
   ]
  },
  {
   "cell_type": "code",
   "execution_count": 1,
   "metadata": {},
   "outputs": [],
   "source": [
    "class SuperKahraman: \n",
    "    \n",
    "    OrtakYetenek=\"Gorunmezlik\"\n",
    "    \n",
    "    def __init__(self,isim,yas,meslek): # self yazmak zorunlu\n",
    "        print(\"constructor(init) çağırıldı.\")\n",
    "        self.isim=isim\n",
    "        self.yas=yas\n",
    "        self.meslek=meslek\n",
    "    def ornekFonk(self):\n",
    "        print(f\"bum be {self.isim}\")"
   ]
  },
  {
   "cell_type": "markdown",
   "metadata": {},
   "source": [
    "self i KOYMANIN EN ÖNEMLİ OLAYI TANIMLANMIŞ ŞEYLERE (FONKSİYON İÇİNDE VS) DİĞER YERLERDEN DE ERİŞMEK"
   ]
  },
  {
   "cell_type": "markdown",
   "metadata": {},
   "source": [
    "NESNE OLUŞTURULDU. FONKSİYON OTOMATİK ÇAĞIRILDI."
   ]
  },
  {
   "cell_type": "code",
   "execution_count": 2,
   "metadata": {
    "scrolled": true
   },
   "outputs": [
    {
     "name": "stdout",
     "output_type": "stream",
     "text": [
      "constructor(init) çağırıldı.\n"
     ]
    }
   ],
   "source": [
    "superman=SuperKahraman(\"clark\",30,\"gazeteci\")"
   ]
  },
  {
   "cell_type": "code",
   "execution_count": 3,
   "metadata": {},
   "outputs": [
    {
     "data": {
      "text/plain": [
       "'clark'"
      ]
     },
     "execution_count": 3,
     "metadata": {},
     "output_type": "execute_result"
    }
   ],
   "source": [
    "superman.isim"
   ]
  },
  {
   "cell_type": "code",
   "execution_count": 4,
   "metadata": {},
   "outputs": [
    {
     "data": {
      "text/plain": [
       "30"
      ]
     },
     "execution_count": 4,
     "metadata": {},
     "output_type": "execute_result"
    }
   ],
   "source": [
    "superman.yas"
   ]
  },
  {
   "cell_type": "markdown",
   "metadata": {},
   "source": [
    "class SuperKahraman():\n",
    "\n",
    "class SuperKahraman:\n",
    "\n",
    "ARASINDAKİ FARKI ANLAMADIM. FARK YOK GİBİ"
   ]
  },
  {
   "cell_type": "code",
   "execution_count": 5,
   "metadata": {},
   "outputs": [],
   "source": [
    "superman.OrtakYetenek=\"tiqtoh\""
   ]
  },
  {
   "cell_type": "code",
   "execution_count": 6,
   "metadata": {},
   "outputs": [
    {
     "data": {
      "text/plain": [
       "'tiqtoh'"
      ]
     },
     "execution_count": 6,
     "metadata": {},
     "output_type": "execute_result"
    }
   ],
   "source": [
    "superman.OrtakYetenek"
   ]
  },
  {
   "cell_type": "code",
   "execution_count": 7,
   "metadata": {},
   "outputs": [
    {
     "name": "stdout",
     "output_type": "stream",
     "text": [
      "constructor(init) çağırıldı.\n"
     ]
    }
   ],
   "source": [
    "ironman=SuperKahraman(\"tony stark\",35,\"girişimci\")"
   ]
  },
  {
   "cell_type": "code",
   "execution_count": 8,
   "metadata": {
    "scrolled": true
   },
   "outputs": [
    {
     "data": {
      "text/plain": [
       "'Gorunmezlik'"
      ]
     },
     "execution_count": 8,
     "metadata": {},
     "output_type": "execute_result"
    }
   ],
   "source": [
    "ironman.OrtakYetenek"
   ]
  },
  {
   "cell_type": "code",
   "execution_count": 9,
   "metadata": {
    "scrolled": true
   },
   "outputs": [
    {
     "name": "stdout",
     "output_type": "stream",
     "text": [
      "bum be tony stark\n"
     ]
    }
   ],
   "source": [
    "ironman.ornekFonk()"
   ]
  },
  {
   "cell_type": "markdown",
   "metadata": {},
   "source": [
    "YENİ SINIF\n",
    "\n",
    "KULLANICI DEĞER VERMEZSE 0 OLARAK KABUL ETMEK İÇİN DEFAULT DEĞER VERİYORUZ."
   ]
  },
  {
   "cell_type": "code",
   "execution_count": 10,
   "metadata": {},
   "outputs": [],
   "source": [
    "class Kopek:\n",
    "    def __init__(self,yas=0):\n",
    "        self.yas=yas"
   ]
  },
  {
   "cell_type": "code",
   "execution_count": 11,
   "metadata": {},
   "outputs": [],
   "source": [
    "benimKopegim=Kopek()"
   ]
  },
  {
   "cell_type": "markdown",
   "metadata": {},
   "source": [
    "DEĞER VERMEDİM VE 0 OLARAK YAZDI"
   ]
  },
  {
   "cell_type": "code",
   "execution_count": 12,
   "metadata": {},
   "outputs": [
    {
     "data": {
      "text/plain": [
       "0"
      ]
     },
     "execution_count": 12,
     "metadata": {},
     "output_type": "execute_result"
    }
   ],
   "source": [
    "benimKopegim.yas"
   ]
  },
  {
   "cell_type": "markdown",
   "metadata": {},
   "source": [
    "ALIŞTIRMA (KÖPEĞİN İNSAN YAŞINI HESAPLAMA)"
   ]
  },
  {
   "cell_type": "code",
   "execution_count": 13,
   "metadata": {},
   "outputs": [],
   "source": [
    "class kopek_insan:\n",
    "    def __init__(self,kopek_yas=2):\n",
    "        self.kopek_yas=kopek_yas\n",
    "        self.sonuc=self.kopek_yas*7\n",
    "    def kopek_insan_hesap(self):\n",
    "        return self.sonuc"
   ]
  },
  {
   "cell_type": "code",
   "execution_count": 14,
   "metadata": {},
   "outputs": [
    {
     "data": {
      "text/plain": [
       "14"
      ]
     },
     "execution_count": 14,
     "metadata": {},
     "output_type": "execute_result"
    }
   ],
   "source": [
    "golden=kopek_insan()\n",
    "golden.kopek_insan_hesap()"
   ]
  },
  {
   "cell_type": "markdown",
   "metadata": {},
   "source": [
    "# inheritance - kalıtım"
   ]
  },
  {
   "cell_type": "code",
   "execution_count": 37,
   "metadata": {},
   "outputs": [],
   "source": [
    "class Hayvan():\n",
    "    def __init__(self):\n",
    "        print(\"hayvan sınıfı çağırıldı.\")\n",
    "    def method1(self):\n",
    "        print(\"hayvan sınıfı method 1 çağırıldı.\")\n",
    "    def method2(self):\n",
    "        print(\"hayvan sınıfı method 2 çağırıldı.\")"
   ]
  },
  {
   "cell_type": "markdown",
   "metadata": {},
   "source": [
    "kedi CLASSINA Hayvan CLASSININ ÖZELLİKLERİNİ VERDİK \n",
    "\n",
    "Hayvan CLASSI kedi CLASSININ ÖZELLİKLERİNİ ALMADI !!!"
   ]
  },
  {
   "cell_type": "code",
   "execution_count": 38,
   "metadata": {},
   "outputs": [],
   "source": [
    "class Kedi(Hayvan):\n",
    "    def __init__(self):\n",
    "       # Hayvan.method1(self) # BÖYLE ÇAĞIRABİLİYORUZ BURADA\n",
    "       # Hayvan.__init__(self)\n",
    "        print(\"Kedi sınıfı çağırıldı.\")\n",
    "    def miyavla(self):\n",
    "        print(\"miyav\")\n",
    "    def method2(self):\n",
    "        print(\"kedi sınıfı method 2 çağırıldı.\")  "
   ]
  },
  {
   "cell_type": "code",
   "execution_count": 39,
   "metadata": {},
   "outputs": [
    {
     "name": "stdout",
     "output_type": "stream",
     "text": [
      "Kedi sınıfı çağırıldı.\n"
     ]
    }
   ],
   "source": [
    "van_kedisi=Kedi()"
   ]
  },
  {
   "cell_type": "markdown",
   "metadata": {},
   "source": [
    "Hayvan SINIFINDAKİ method1 İ ÇAĞIRABİLDİK."
   ]
  },
  {
   "cell_type": "code",
   "execution_count": 40,
   "metadata": {},
   "outputs": [
    {
     "name": "stdout",
     "output_type": "stream",
     "text": [
      "hayvan sınıfı method 1 çağırıldı.\n"
     ]
    }
   ],
   "source": [
    "van_kedisi.method1()"
   ]
  },
  {
   "cell_type": "code",
   "execution_count": 41,
   "metadata": {},
   "outputs": [
    {
     "ename": "AttributeError",
     "evalue": "type object 'Hayvan' has no attribute 'miyavla'",
     "output_type": "error",
     "traceback": [
      "\u001b[1;31m---------------------------------------------------------------------------\u001b[0m",
      "\u001b[1;31mAttributeError\u001b[0m                            Traceback (most recent call last)",
      "\u001b[1;32m<ipython-input-41-4a690164da76>\u001b[0m in \u001b[0;36m<module>\u001b[1;34m\u001b[0m\n\u001b[1;32m----> 1\u001b[1;33m \u001b[0mHayvan\u001b[0m\u001b[1;33m.\u001b[0m\u001b[0mmiyavla\u001b[0m\u001b[1;33m(\u001b[0m\u001b[1;33m)\u001b[0m\u001b[1;33m\u001b[0m\u001b[1;33m\u001b[0m\u001b[0m\n\u001b[0m",
      "\u001b[1;31mAttributeError\u001b[0m: type object 'Hayvan' has no attribute 'miyavla'"
     ]
    }
   ],
   "source": [
    "Hayvan.miyavla()"
   ]
  },
  {
   "cell_type": "markdown",
   "metadata": {},
   "source": [
    "AYNI İSİMDE Kedi CLASSINDA METOD OLUŞTURURSAK (HAYVAN CLASSINDA OLAN) ÜSTÜNE YAZAR\n",
    "\n",
    "OVERRİDİNG OLUR KEDİ CLASSINDAKİ METODU KULLANIR"
   ]
  },
  {
   "cell_type": "code",
   "execution_count": 44,
   "metadata": {
    "scrolled": true
   },
   "outputs": [
    {
     "name": "stdout",
     "output_type": "stream",
     "text": [
      "Kedi sınıfı çağırıldı.\n"
     ]
    }
   ],
   "source": [
    "yeni_kedi=Kedi()"
   ]
  },
  {
   "cell_type": "markdown",
   "metadata": {},
   "source": [
    "BU METOD HAYVAN CLASSINDA DA VAR FAKAT\n",
    "\n",
    "ÜZERİNE YAZDIK VE KEDİ CLASSINDAN GELİYOR"
   ]
  },
  {
   "cell_type": "code",
   "execution_count": 43,
   "metadata": {},
   "outputs": [
    {
     "name": "stdout",
     "output_type": "stream",
     "text": [
      "kedi sınıfı method 2 çağırıldı.\n"
     ]
    }
   ],
   "source": [
    "yeni_kedi.method2()"
   ]
  },
  {
   "cell_type": "code",
   "execution_count": 46,
   "metadata": {},
   "outputs": [
    {
     "name": "stdout",
     "output_type": "stream",
     "text": [
      "hayvan sınıfı çağırıldı.\n"
     ]
    }
   ],
   "source": [
    "yeni_hayvan=Hayvan()"
   ]
  },
  {
   "cell_type": "code",
   "execution_count": 47,
   "metadata": {},
   "outputs": [
    {
     "name": "stdout",
     "output_type": "stream",
     "text": [
      "hayvan sınıfı method 2 çağırıldı.\n"
     ]
    }
   ],
   "source": [
    "yeni_hayvan.method2()"
   ]
  },
  {
   "cell_type": "markdown",
   "metadata": {},
   "source": [
    "# POLYMORPHSIM"
   ]
  },
  {
   "cell_type": "markdown",
   "metadata": {},
   "source": [
    "AYNI İSİMDE METODLARIN VEYA FONKSİYONLARIN FARKLI AMACA HİZMET ETMESİ DEMEKTİR"
   ]
  },
  {
   "cell_type": "code",
   "execution_count": 62,
   "metadata": {},
   "outputs": [],
   "source": [
    "class Elma():\n",
    "    def __init__(self,isim):\n",
    "        self.isim=isim\n",
    "    def bilgiVer(self):\n",
    "        return self.isim + \" 150 kaloridir.\""
   ]
  },
  {
   "cell_type": "code",
   "execution_count": 63,
   "metadata": {},
   "outputs": [],
   "source": [
    "class Muz():\n",
    "    def __init__(self,isim):\n",
    "        self.isim=isim\n",
    "    def bilgiVer(self):\n",
    "        return self.isim + \" 100 kaloridir.\""
   ]
  },
  {
   "cell_type": "code",
   "execution_count": 64,
   "metadata": {},
   "outputs": [
    {
     "data": {
      "text/plain": [
       "'alma 150 kaloridir.'"
      ]
     },
     "execution_count": 64,
     "metadata": {},
     "output_type": "execute_result"
    }
   ],
   "source": [
    "elma=Elma(\"alma\")\n",
    "elma.bilgiVer()"
   ]
  },
  {
   "cell_type": "code",
   "execution_count": 65,
   "metadata": {},
   "outputs": [
    {
     "data": {
      "text/plain": [
       "'MUZ BEYBİ 100 kaloridir.'"
      ]
     },
     "execution_count": 65,
     "metadata": {},
     "output_type": "execute_result"
    }
   ],
   "source": [
    "muz=Muz(\"MUZ BEYBİ\")\n",
    "muz.bilgiVer()"
   ]
  },
  {
   "cell_type": "code",
   "execution_count": 66,
   "metadata": {},
   "outputs": [],
   "source": [
    "meyve_listesi=[elma,muz]"
   ]
  },
  {
   "cell_type": "code",
   "execution_count": 67,
   "metadata": {},
   "outputs": [
    {
     "name": "stdout",
     "output_type": "stream",
     "text": [
      "alma 150 kaloridir.\n",
      "MUZ BEYBİ 100 kaloridir.\n"
     ]
    }
   ],
   "source": [
    "for meyve in meyve_listesi:\n",
    "    print(meyve.bilgiVer())"
   ]
  },
  {
   "cell_type": "code",
   "execution_count": 68,
   "metadata": {},
   "outputs": [],
   "source": [
    "meyve_listesi2=[muz,elma]"
   ]
  },
  {
   "cell_type": "code",
   "execution_count": 69,
   "metadata": {},
   "outputs": [
    {
     "name": "stdout",
     "output_type": "stream",
     "text": [
      "MUZ BEYBİ 100 kaloridir.\n",
      "alma 150 kaloridir.\n"
     ]
    }
   ],
   "source": [
    "for meyve in meyve_listesi2:\n",
    "    print(meyve.bilgiVer())"
   ]
  },
  {
   "cell_type": "code",
   "execution_count": null,
   "metadata": {},
   "outputs": [],
   "source": []
  }
 ],
 "metadata": {
  "kernelspec": {
   "display_name": "Python 3",
   "language": "python",
   "name": "python3"
  },
  "language_info": {
   "codemirror_mode": {
    "name": "ipython",
    "version": 3
   },
   "file_extension": ".py",
   "mimetype": "text/x-python",
   "name": "python",
   "nbconvert_exporter": "python",
   "pygments_lexer": "ipython3",
   "version": "3.8.5"
  }
 },
 "nbformat": 4,
 "nbformat_minor": 4
}
