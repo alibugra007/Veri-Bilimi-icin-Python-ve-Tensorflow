{
 "cells": [
  {
   "cell_type": "code",
   "execution_count": 1,
   "metadata": {},
   "outputs": [],
   "source": [
    "import pandas as pd\n",
    "import numpy as np\n",
    "import matplotlib.pyplot as plt\n",
    "import seaborn as sbn"
   ]
  },
  {
   "cell_type": "code",
   "execution_count": 2,
   "metadata": {},
   "outputs": [],
   "source": [
    "dataFrame=pd.read_excel('merc.xlsx')"
   ]
  },
  {
   "cell_type": "code",
   "execution_count": 3,
   "metadata": {},
   "outputs": [
    {
     "data": {
      "text/html": [
       "<div>\n",
       "<style scoped>\n",
       "    .dataframe tbody tr th:only-of-type {\n",
       "        vertical-align: middle;\n",
       "    }\n",
       "\n",
       "    .dataframe tbody tr th {\n",
       "        vertical-align: top;\n",
       "    }\n",
       "\n",
       "    .dataframe thead th {\n",
       "        text-align: right;\n",
       "    }\n",
       "</style>\n",
       "<table border=\"1\" class=\"dataframe\">\n",
       "  <thead>\n",
       "    <tr style=\"text-align: right;\">\n",
       "      <th></th>\n",
       "      <th>year</th>\n",
       "      <th>price</th>\n",
       "      <th>transmission</th>\n",
       "      <th>mileage</th>\n",
       "      <th>tax</th>\n",
       "      <th>mpg</th>\n",
       "      <th>engineSize</th>\n",
       "    </tr>\n",
       "  </thead>\n",
       "  <tbody>\n",
       "    <tr>\n",
       "      <th>0</th>\n",
       "      <td>2005</td>\n",
       "      <td>5200</td>\n",
       "      <td>Automatic</td>\n",
       "      <td>63000</td>\n",
       "      <td>325</td>\n",
       "      <td>32.1</td>\n",
       "      <td>1.8</td>\n",
       "    </tr>\n",
       "    <tr>\n",
       "      <th>1</th>\n",
       "      <td>2017</td>\n",
       "      <td>34948</td>\n",
       "      <td>Automatic</td>\n",
       "      <td>27000</td>\n",
       "      <td>20</td>\n",
       "      <td>61.4</td>\n",
       "      <td>2.1</td>\n",
       "    </tr>\n",
       "    <tr>\n",
       "      <th>2</th>\n",
       "      <td>2016</td>\n",
       "      <td>49948</td>\n",
       "      <td>Automatic</td>\n",
       "      <td>6200</td>\n",
       "      <td>555</td>\n",
       "      <td>28.0</td>\n",
       "      <td>5.5</td>\n",
       "    </tr>\n",
       "    <tr>\n",
       "      <th>3</th>\n",
       "      <td>2016</td>\n",
       "      <td>61948</td>\n",
       "      <td>Automatic</td>\n",
       "      <td>16000</td>\n",
       "      <td>325</td>\n",
       "      <td>30.4</td>\n",
       "      <td>4.0</td>\n",
       "    </tr>\n",
       "    <tr>\n",
       "      <th>4</th>\n",
       "      <td>2016</td>\n",
       "      <td>73948</td>\n",
       "      <td>Automatic</td>\n",
       "      <td>4000</td>\n",
       "      <td>325</td>\n",
       "      <td>30.1</td>\n",
       "      <td>4.0</td>\n",
       "    </tr>\n",
       "  </tbody>\n",
       "</table>\n",
       "</div>"
      ],
      "text/plain": [
       "   year  price transmission  mileage  tax   mpg  engineSize\n",
       "0  2005   5200    Automatic    63000  325  32.1         1.8\n",
       "1  2017  34948    Automatic    27000   20  61.4         2.1\n",
       "2  2016  49948    Automatic     6200  555  28.0         5.5\n",
       "3  2016  61948    Automatic    16000  325  30.4         4.0\n",
       "4  2016  73948    Automatic     4000  325  30.1         4.0"
      ]
     },
     "execution_count": 3,
     "metadata": {},
     "output_type": "execute_result"
    }
   ],
   "source": [
    "dataFrame.head()"
   ]
  },
  {
   "cell_type": "code",
   "execution_count": 4,
   "metadata": {},
   "outputs": [
    {
     "data": {
      "text/html": [
       "<div>\n",
       "<style scoped>\n",
       "    .dataframe tbody tr th:only-of-type {\n",
       "        vertical-align: middle;\n",
       "    }\n",
       "\n",
       "    .dataframe tbody tr th {\n",
       "        vertical-align: top;\n",
       "    }\n",
       "\n",
       "    .dataframe thead th {\n",
       "        text-align: right;\n",
       "    }\n",
       "</style>\n",
       "<table border=\"1\" class=\"dataframe\">\n",
       "  <thead>\n",
       "    <tr style=\"text-align: right;\">\n",
       "      <th></th>\n",
       "      <th>year</th>\n",
       "      <th>price</th>\n",
       "      <th>mileage</th>\n",
       "      <th>tax</th>\n",
       "      <th>mpg</th>\n",
       "      <th>engineSize</th>\n",
       "    </tr>\n",
       "  </thead>\n",
       "  <tbody>\n",
       "    <tr>\n",
       "      <th>count</th>\n",
       "      <td>13119.000000</td>\n",
       "      <td>13119.000000</td>\n",
       "      <td>13119.000000</td>\n",
       "      <td>13119.000000</td>\n",
       "      <td>13119.000000</td>\n",
       "      <td>13119.000000</td>\n",
       "    </tr>\n",
       "    <tr>\n",
       "      <th>mean</th>\n",
       "      <td>2017.296288</td>\n",
       "      <td>24698.596920</td>\n",
       "      <td>21949.559037</td>\n",
       "      <td>129.972178</td>\n",
       "      <td>55.155843</td>\n",
       "      <td>2.071530</td>\n",
       "    </tr>\n",
       "    <tr>\n",
       "      <th>std</th>\n",
       "      <td>2.224709</td>\n",
       "      <td>11842.675542</td>\n",
       "      <td>21176.512267</td>\n",
       "      <td>65.260286</td>\n",
       "      <td>15.220082</td>\n",
       "      <td>0.572426</td>\n",
       "    </tr>\n",
       "    <tr>\n",
       "      <th>min</th>\n",
       "      <td>1970.000000</td>\n",
       "      <td>650.000000</td>\n",
       "      <td>1.000000</td>\n",
       "      <td>0.000000</td>\n",
       "      <td>1.100000</td>\n",
       "      <td>0.000000</td>\n",
       "    </tr>\n",
       "    <tr>\n",
       "      <th>25%</th>\n",
       "      <td>2016.000000</td>\n",
       "      <td>17450.000000</td>\n",
       "      <td>6097.500000</td>\n",
       "      <td>125.000000</td>\n",
       "      <td>45.600000</td>\n",
       "      <td>1.800000</td>\n",
       "    </tr>\n",
       "    <tr>\n",
       "      <th>50%</th>\n",
       "      <td>2018.000000</td>\n",
       "      <td>22480.000000</td>\n",
       "      <td>15189.000000</td>\n",
       "      <td>145.000000</td>\n",
       "      <td>56.500000</td>\n",
       "      <td>2.000000</td>\n",
       "    </tr>\n",
       "    <tr>\n",
       "      <th>75%</th>\n",
       "      <td>2019.000000</td>\n",
       "      <td>28980.000000</td>\n",
       "      <td>31779.500000</td>\n",
       "      <td>145.000000</td>\n",
       "      <td>64.200000</td>\n",
       "      <td>2.100000</td>\n",
       "    </tr>\n",
       "    <tr>\n",
       "      <th>max</th>\n",
       "      <td>2020.000000</td>\n",
       "      <td>159999.000000</td>\n",
       "      <td>259000.000000</td>\n",
       "      <td>580.000000</td>\n",
       "      <td>217.300000</td>\n",
       "      <td>6.200000</td>\n",
       "    </tr>\n",
       "  </tbody>\n",
       "</table>\n",
       "</div>"
      ],
      "text/plain": [
       "               year          price        mileage           tax           mpg  \\\n",
       "count  13119.000000   13119.000000   13119.000000  13119.000000  13119.000000   \n",
       "mean    2017.296288   24698.596920   21949.559037    129.972178     55.155843   \n",
       "std        2.224709   11842.675542   21176.512267     65.260286     15.220082   \n",
       "min     1970.000000     650.000000       1.000000      0.000000      1.100000   \n",
       "25%     2016.000000   17450.000000    6097.500000    125.000000     45.600000   \n",
       "50%     2018.000000   22480.000000   15189.000000    145.000000     56.500000   \n",
       "75%     2019.000000   28980.000000   31779.500000    145.000000     64.200000   \n",
       "max     2020.000000  159999.000000  259000.000000    580.000000    217.300000   \n",
       "\n",
       "         engineSize  \n",
       "count  13119.000000  \n",
       "mean       2.071530  \n",
       "std        0.572426  \n",
       "min        0.000000  \n",
       "25%        1.800000  \n",
       "50%        2.000000  \n",
       "75%        2.100000  \n",
       "max        6.200000  "
      ]
     },
     "execution_count": 4,
     "metadata": {},
     "output_type": "execute_result"
    }
   ],
   "source": [
    "dataFrame.describe()"
   ]
  },
  {
   "cell_type": "code",
   "execution_count": 5,
   "metadata": {},
   "outputs": [
    {
     "data": {
      "text/plain": [
       "year            0\n",
       "price           0\n",
       "transmission    0\n",
       "mileage         0\n",
       "tax             0\n",
       "mpg             0\n",
       "engineSize      0\n",
       "dtype: int64"
      ]
     },
     "execution_count": 5,
     "metadata": {},
     "output_type": "execute_result"
    }
   ],
   "source": [
    "dataFrame.isnull().sum() # sütunlarda kaç tane eksik var diyor yani 0 tane null var"
   ]
  },
  {
   "cell_type": "code",
   "execution_count": 6,
   "metadata": {},
   "outputs": [
    {
     "name": "stderr",
     "output_type": "stream",
     "text": [
      "C:\\ProgramData\\Anaconda3\\lib\\site-packages\\seaborn\\distributions.py:2551: FutureWarning: `distplot` is a deprecated function and will be removed in a future version. Please adapt your code to use either `displot` (a figure-level function with similar flexibility) or `histplot` (an axes-level function for histograms).\n",
      "  warnings.warn(msg, FutureWarning)\n"
     ]
    },
    {
     "data": {
      "text/plain": [
       "<AxesSubplot:xlabel='price', ylabel='Density'>"
      ]
     },
     "execution_count": 6,
     "metadata": {},
     "output_type": "execute_result"
    },
    {
     "data": {
      "image/png": "[encoded data removed]",
      "text/plain": [
       "<Figure size 504x360 with 1 Axes>"
      ]
     },
     "metadata": {
      "needs_background": "light"
     },
     "output_type": "display_data"
    }
   ],
   "source": [
    "plt.figure(figsize=(7,5))\n",
    "sbn.distplot(dataFrame[\"price\"])"
   ]
  },
  {
   "cell_type": "code",
   "execution_count": 7,
   "metadata": {},
   "outputs": [
    {
     "name": "stderr",
     "output_type": "stream",
     "text": [
      "C:\\ProgramData\\Anaconda3\\lib\\site-packages\\seaborn\\_decorators.py:36: FutureWarning: Pass the following variable as a keyword arg: x. From version 0.12, the only valid positional argument will be `data`, and passing other arguments without an explicit keyword will result in an error or misinterpretation.\n",
      "  warnings.warn(\n"
     ]
    },
    {
     "data": {
      "text/plain": [
       "<AxesSubplot:xlabel='year', ylabel='count'>"
      ]
     },
     "execution_count": 7,
     "metadata": {},
     "output_type": "execute_result"
    },
    {
     "data": {
      "image/png": "[encoded data removed]",
      "text/plain": [
       "<Figure size 432x288 with 1 Axes>"
      ]
     },
     "metadata": {
      "needs_background": "light"
     },
     "output_type": "display_data"
    }
   ],
   "source": [
    "sbn.countplot(dataFrame[\"year\"])"
   ]
  },
  {
   "cell_type": "code",
   "execution_count": 8,
   "metadata": {},
   "outputs": [
    {
     "data": {
      "text/html": [
       "<div>\n",
       "<style scoped>\n",
       "    .dataframe tbody tr th:only-of-type {\n",
       "        vertical-align: middle;\n",
       "    }\n",
       "\n",
       "    .dataframe tbody tr th {\n",
       "        vertical-align: top;\n",
       "    }\n",
       "\n",
       "    .dataframe thead th {\n",
       "        text-align: right;\n",
       "    }\n",
       "</style>\n",
       "<table border=\"1\" class=\"dataframe\">\n",
       "  <thead>\n",
       "    <tr style=\"text-align: right;\">\n",
       "      <th></th>\n",
       "      <th>year</th>\n",
       "      <th>price</th>\n",
       "      <th>mileage</th>\n",
       "      <th>tax</th>\n",
       "      <th>mpg</th>\n",
       "      <th>engineSize</th>\n",
       "    </tr>\n",
       "  </thead>\n",
       "  <tbody>\n",
       "    <tr>\n",
       "      <th>year</th>\n",
       "      <td>1.000000</td>\n",
       "      <td>0.520712</td>\n",
       "      <td>-0.738027</td>\n",
       "      <td>0.012480</td>\n",
       "      <td>-0.094626</td>\n",
       "      <td>-0.142147</td>\n",
       "    </tr>\n",
       "    <tr>\n",
       "      <th>price</th>\n",
       "      <td>0.520712</td>\n",
       "      <td>1.000000</td>\n",
       "      <td>-0.537214</td>\n",
       "      <td>0.268717</td>\n",
       "      <td>-0.438445</td>\n",
       "      <td>0.516126</td>\n",
       "    </tr>\n",
       "    <tr>\n",
       "      <th>mileage</th>\n",
       "      <td>-0.738027</td>\n",
       "      <td>-0.537214</td>\n",
       "      <td>1.000000</td>\n",
       "      <td>-0.160223</td>\n",
       "      <td>0.202850</td>\n",
       "      <td>0.063652</td>\n",
       "    </tr>\n",
       "    <tr>\n",
       "      <th>tax</th>\n",
       "      <td>0.012480</td>\n",
       "      <td>0.268717</td>\n",
       "      <td>-0.160223</td>\n",
       "      <td>1.000000</td>\n",
       "      <td>-0.513742</td>\n",
       "      <td>0.338341</td>\n",
       "    </tr>\n",
       "    <tr>\n",
       "      <th>mpg</th>\n",
       "      <td>-0.094626</td>\n",
       "      <td>-0.438445</td>\n",
       "      <td>0.202850</td>\n",
       "      <td>-0.513742</td>\n",
       "      <td>1.000000</td>\n",
       "      <td>-0.339862</td>\n",
       "    </tr>\n",
       "    <tr>\n",
       "      <th>engineSize</th>\n",
       "      <td>-0.142147</td>\n",
       "      <td>0.516126</td>\n",
       "      <td>0.063652</td>\n",
       "      <td>0.338341</td>\n",
       "      <td>-0.339862</td>\n",
       "      <td>1.000000</td>\n",
       "    </tr>\n",
       "  </tbody>\n",
       "</table>\n",
       "</div>"
      ],
      "text/plain": [
       "                year     price   mileage       tax       mpg  engineSize\n",
       "year        1.000000  0.520712 -0.738027  0.012480 -0.094626   -0.142147\n",
       "price       0.520712  1.000000 -0.537214  0.268717 -0.438445    0.516126\n",
       "mileage    -0.738027 -0.537214  1.000000 -0.160223  0.202850    0.063652\n",
       "tax         0.012480  0.268717 -0.160223  1.000000 -0.513742    0.338341\n",
       "mpg        -0.094626 -0.438445  0.202850 -0.513742  1.000000   -0.339862\n",
       "engineSize -0.142147  0.516126  0.063652  0.338341 -0.339862    1.000000"
      ]
     },
     "execution_count": 8,
     "metadata": {},
     "output_type": "execute_result"
    }
   ],
   "source": [
    "dataFrame.corr() # korelasyon ilişki"
   ]
  },
  {
   "cell_type": "markdown",
   "metadata": {},
   "source": [
    "Not: mpg mile per gallon"
   ]
  },
  {
   "cell_type": "code",
   "execution_count": 9,
   "metadata": {},
   "outputs": [
    {
     "data": {
      "text/plain": [
       "mileage      -0.537214\n",
       "mpg          -0.438445\n",
       "tax           0.268717\n",
       "engineSize    0.516126\n",
       "year          0.520712\n",
       "price         1.000000\n",
       "Name: price, dtype: float64"
      ]
     },
     "execution_count": 9,
     "metadata": {},
     "output_type": "execute_result"
    }
   ],
   "source": [
    "dataFrame.corr()[\"price\"].sort_values() # fiyatı + - etkileme "
   ]
  },
  {
   "cell_type": "code",
   "execution_count": 10,
   "metadata": {},
   "outputs": [
    {
     "data": {
      "text/plain": [
       "year                 2020\n",
       "price              159999\n",
       "transmission    Semi-Auto\n",
       "mileage            259000\n",
       "tax                   580\n",
       "mpg                 217.3\n",
       "engineSize            6.2\n",
       "dtype: object"
      ]
     },
     "execution_count": 10,
     "metadata": {},
     "output_type": "execute_result"
    }
   ],
   "source": [
    "dataFrame.max()"
   ]
  },
  {
   "cell_type": "code",
   "execution_count": 11,
   "metadata": {},
   "outputs": [
    {
     "data": {
      "text/plain": [
       "<AxesSubplot:xlabel='mileage', ylabel='price'>"
      ]
     },
     "execution_count": 11,
     "metadata": {},
     "output_type": "execute_result"
    },
    {
     "data": {
      "image/png": "[encoded data removed]",
      "text/plain": [
       "<Figure size 432x288 with 1 Axes>"
      ]
     },
     "metadata": {
      "needs_background": "light"
     },
     "output_type": "display_data"
    }
   ],
   "source": [
    "sbn.scatterplot(x=\"mileage\",y=\"price\",data=dataFrame)"
   ]
  },
  {
   "cell_type": "code",
   "execution_count": 12,
   "metadata": {},
   "outputs": [
    {
     "data": {
      "text/html": [
       "<div>\n",
       "<style scoped>\n",
       "    .dataframe tbody tr th:only-of-type {\n",
       "        vertical-align: middle;\n",
       "    }\n",
       "\n",
       "    .dataframe tbody tr th {\n",
       "        vertical-align: top;\n",
       "    }\n",
       "\n",
       "    .dataframe thead th {\n",
       "        text-align: right;\n",
       "    }\n",
       "</style>\n",
       "<table border=\"1\" class=\"dataframe\">\n",
       "  <thead>\n",
       "    <tr style=\"text-align: right;\">\n",
       "      <th></th>\n",
       "      <th>year</th>\n",
       "      <th>price</th>\n",
       "      <th>transmission</th>\n",
       "      <th>mileage</th>\n",
       "      <th>tax</th>\n",
       "      <th>mpg</th>\n",
       "      <th>engineSize</th>\n",
       "    </tr>\n",
       "  </thead>\n",
       "  <tbody>\n",
       "    <tr>\n",
       "      <th>6199</th>\n",
       "      <td>2020</td>\n",
       "      <td>159999</td>\n",
       "      <td>Semi-Auto</td>\n",
       "      <td>1350</td>\n",
       "      <td>145</td>\n",
       "      <td>21.4</td>\n",
       "      <td>4.0</td>\n",
       "    </tr>\n",
       "    <tr>\n",
       "      <th>10044</th>\n",
       "      <td>2020</td>\n",
       "      <td>154998</td>\n",
       "      <td>Automatic</td>\n",
       "      <td>3000</td>\n",
       "      <td>150</td>\n",
       "      <td>21.4</td>\n",
       "      <td>4.0</td>\n",
       "    </tr>\n",
       "    <tr>\n",
       "      <th>5</th>\n",
       "      <td>2011</td>\n",
       "      <td>149948</td>\n",
       "      <td>Automatic</td>\n",
       "      <td>3000</td>\n",
       "      <td>570</td>\n",
       "      <td>21.4</td>\n",
       "      <td>6.2</td>\n",
       "    </tr>\n",
       "    <tr>\n",
       "      <th>8737</th>\n",
       "      <td>2019</td>\n",
       "      <td>140319</td>\n",
       "      <td>Semi-Auto</td>\n",
       "      <td>785</td>\n",
       "      <td>150</td>\n",
       "      <td>22.1</td>\n",
       "      <td>4.0</td>\n",
       "    </tr>\n",
       "    <tr>\n",
       "      <th>6386</th>\n",
       "      <td>2018</td>\n",
       "      <td>139995</td>\n",
       "      <td>Semi-Auto</td>\n",
       "      <td>13046</td>\n",
       "      <td>145</td>\n",
       "      <td>21.4</td>\n",
       "      <td>4.0</td>\n",
       "    </tr>\n",
       "    <tr>\n",
       "      <th>8</th>\n",
       "      <td>2019</td>\n",
       "      <td>139948</td>\n",
       "      <td>Automatic</td>\n",
       "      <td>12000</td>\n",
       "      <td>145</td>\n",
       "      <td>21.4</td>\n",
       "      <td>4.0</td>\n",
       "    </tr>\n",
       "    <tr>\n",
       "      <th>9133</th>\n",
       "      <td>2019</td>\n",
       "      <td>139559</td>\n",
       "      <td>Semi-Auto</td>\n",
       "      <td>1000</td>\n",
       "      <td>145</td>\n",
       "      <td>22.1</td>\n",
       "      <td>4.0</td>\n",
       "    </tr>\n",
       "    <tr>\n",
       "      <th>8821</th>\n",
       "      <td>2020</td>\n",
       "      <td>138439</td>\n",
       "      <td>Semi-Auto</td>\n",
       "      <td>1000</td>\n",
       "      <td>145</td>\n",
       "      <td>22.1</td>\n",
       "      <td>4.0</td>\n",
       "    </tr>\n",
       "    <tr>\n",
       "      <th>5902</th>\n",
       "      <td>2018</td>\n",
       "      <td>135771</td>\n",
       "      <td>Semi-Auto</td>\n",
       "      <td>19000</td>\n",
       "      <td>145</td>\n",
       "      <td>21.4</td>\n",
       "      <td>4.0</td>\n",
       "    </tr>\n",
       "    <tr>\n",
       "      <th>7864</th>\n",
       "      <td>2018</td>\n",
       "      <td>135124</td>\n",
       "      <td>Semi-Auto</td>\n",
       "      <td>18234</td>\n",
       "      <td>150</td>\n",
       "      <td>21.4</td>\n",
       "      <td>4.0</td>\n",
       "    </tr>\n",
       "    <tr>\n",
       "      <th>8673</th>\n",
       "      <td>2019</td>\n",
       "      <td>134219</td>\n",
       "      <td>Semi-Auto</td>\n",
       "      <td>1000</td>\n",
       "      <td>145</td>\n",
       "      <td>24.8</td>\n",
       "      <td>4.0</td>\n",
       "    </tr>\n",
       "    <tr>\n",
       "      <th>6210</th>\n",
       "      <td>2019</td>\n",
       "      <td>129990</td>\n",
       "      <td>Automatic</td>\n",
       "      <td>1000</td>\n",
       "      <td>145</td>\n",
       "      <td>24.8</td>\n",
       "      <td>4.0</td>\n",
       "    </tr>\n",
       "    <tr>\n",
       "      <th>4759</th>\n",
       "      <td>2019</td>\n",
       "      <td>126000</td>\n",
       "      <td>Automatic</td>\n",
       "      <td>250</td>\n",
       "      <td>145</td>\n",
       "      <td>24.6</td>\n",
       "      <td>4.0</td>\n",
       "    </tr>\n",
       "    <tr>\n",
       "      <th>2647</th>\n",
       "      <td>2019</td>\n",
       "      <td>125796</td>\n",
       "      <td>Automatic</td>\n",
       "      <td>637</td>\n",
       "      <td>145</td>\n",
       "      <td>24.8</td>\n",
       "      <td>4.0</td>\n",
       "    </tr>\n",
       "    <tr>\n",
       "      <th>6223</th>\n",
       "      <td>2019</td>\n",
       "      <td>124999</td>\n",
       "      <td>Automatic</td>\n",
       "      <td>1500</td>\n",
       "      <td>145</td>\n",
       "      <td>31.7</td>\n",
       "      <td>4.0</td>\n",
       "    </tr>\n",
       "    <tr>\n",
       "      <th>4094</th>\n",
       "      <td>2019</td>\n",
       "      <td>124366</td>\n",
       "      <td>Semi-Auto</td>\n",
       "      <td>880</td>\n",
       "      <td>145</td>\n",
       "      <td>24.8</td>\n",
       "      <td>4.0</td>\n",
       "    </tr>\n",
       "    <tr>\n",
       "      <th>2629</th>\n",
       "      <td>2019</td>\n",
       "      <td>123846</td>\n",
       "      <td>Semi-Auto</td>\n",
       "      <td>2951</td>\n",
       "      <td>145</td>\n",
       "      <td>22.1</td>\n",
       "      <td>4.0</td>\n",
       "    </tr>\n",
       "    <tr>\n",
       "      <th>7134</th>\n",
       "      <td>2019</td>\n",
       "      <td>115359</td>\n",
       "      <td>Semi-Auto</td>\n",
       "      <td>1000</td>\n",
       "      <td>145</td>\n",
       "      <td>30.1</td>\n",
       "      <td>4.0</td>\n",
       "    </tr>\n",
       "    <tr>\n",
       "      <th>9159</th>\n",
       "      <td>2019</td>\n",
       "      <td>114199</td>\n",
       "      <td>Semi-Auto</td>\n",
       "      <td>891</td>\n",
       "      <td>145</td>\n",
       "      <td>22.6</td>\n",
       "      <td>4.0</td>\n",
       "    </tr>\n",
       "    <tr>\n",
       "      <th>1980</th>\n",
       "      <td>2019</td>\n",
       "      <td>109995</td>\n",
       "      <td>Semi-Auto</td>\n",
       "      <td>4688</td>\n",
       "      <td>150</td>\n",
       "      <td>31.7</td>\n",
       "      <td>4.0</td>\n",
       "    </tr>\n",
       "  </tbody>\n",
       "</table>\n",
       "</div>"
      ],
      "text/plain": [
       "       year   price transmission  mileage  tax   mpg  engineSize\n",
       "6199   2020  159999    Semi-Auto     1350  145  21.4         4.0\n",
       "10044  2020  154998    Automatic     3000  150  21.4         4.0\n",
       "5      2011  149948    Automatic     3000  570  21.4         6.2\n",
       "8737   2019  140319    Semi-Auto      785  150  22.1         4.0\n",
       "6386   2018  139995    Semi-Auto    13046  145  21.4         4.0\n",
       "8      2019  139948    Automatic    12000  145  21.4         4.0\n",
       "9133   2019  139559    Semi-Auto     1000  145  22.1         4.0\n",
       "8821   2020  138439    Semi-Auto     1000  145  22.1         4.0\n",
       "5902   2018  135771    Semi-Auto    19000  145  21.4         4.0\n",
       "7864   2018  135124    Semi-Auto    18234  150  21.4         4.0\n",
       "8673   2019  134219    Semi-Auto     1000  145  24.8         4.0\n",
       "6210   2019  129990    Automatic     1000  145  24.8         4.0\n",
       "4759   2019  126000    Automatic      250  145  24.6         4.0\n",
       "2647   2019  125796    Automatic      637  145  24.8         4.0\n",
       "6223   2019  124999    Automatic     1500  145  31.7         4.0\n",
       "4094   2019  124366    Semi-Auto      880  145  24.8         4.0\n",
       "2629   2019  123846    Semi-Auto     2951  145  22.1         4.0\n",
       "7134   2019  115359    Semi-Auto     1000  145  30.1         4.0\n",
       "9159   2019  114199    Semi-Auto      891  145  22.6         4.0\n",
       "1980   2019  109995    Semi-Auto     4688  150  31.7         4.0"
      ]
     },
     "execution_count": 12,
     "metadata": {},
     "output_type": "execute_result"
    }
   ],
   "source": [
    "dataFrame.sort_values(\"price\",ascending=False).head(20) # ascending false ise en yüksek fiyat en yukarıda"
   ]
  },
  {
   "cell_type": "code",
   "execution_count": 13,
   "metadata": {},
   "outputs": [
    {
     "data": {
      "text/html": [
       "<div>\n",
       "<style scoped>\n",
       "    .dataframe tbody tr th:only-of-type {\n",
       "        vertical-align: middle;\n",
       "    }\n",
       "\n",
       "    .dataframe tbody tr th {\n",
       "        vertical-align: top;\n",
       "    }\n",
       "\n",
       "    .dataframe thead th {\n",
       "        text-align: right;\n",
       "    }\n",
       "</style>\n",
       "<table border=\"1\" class=\"dataframe\">\n",
       "  <thead>\n",
       "    <tr style=\"text-align: right;\">\n",
       "      <th></th>\n",
       "      <th>year</th>\n",
       "      <th>price</th>\n",
       "      <th>transmission</th>\n",
       "      <th>mileage</th>\n",
       "      <th>tax</th>\n",
       "      <th>mpg</th>\n",
       "      <th>engineSize</th>\n",
       "    </tr>\n",
       "  </thead>\n",
       "  <tbody>\n",
       "    <tr>\n",
       "      <th>11816</th>\n",
       "      <td>2003</td>\n",
       "      <td>650</td>\n",
       "      <td>Manual</td>\n",
       "      <td>109090</td>\n",
       "      <td>235</td>\n",
       "      <td>40.0</td>\n",
       "      <td>1.4</td>\n",
       "    </tr>\n",
       "    <tr>\n",
       "      <th>12008</th>\n",
       "      <td>2010</td>\n",
       "      <td>1350</td>\n",
       "      <td>Manual</td>\n",
       "      <td>116126</td>\n",
       "      <td>145</td>\n",
       "      <td>54.3</td>\n",
       "      <td>2.0</td>\n",
       "    </tr>\n",
       "    <tr>\n",
       "      <th>11765</th>\n",
       "      <td>2000</td>\n",
       "      <td>1490</td>\n",
       "      <td>Automatic</td>\n",
       "      <td>87000</td>\n",
       "      <td>265</td>\n",
       "      <td>27.2</td>\n",
       "      <td>3.2</td>\n",
       "    </tr>\n",
       "    <tr>\n",
       "      <th>11549</th>\n",
       "      <td>2002</td>\n",
       "      <td>1495</td>\n",
       "      <td>Automatic</td>\n",
       "      <td>13800</td>\n",
       "      <td>305</td>\n",
       "      <td>39.8</td>\n",
       "      <td>2.7</td>\n",
       "    </tr>\n",
       "    <tr>\n",
       "      <th>12594</th>\n",
       "      <td>2004</td>\n",
       "      <td>1495</td>\n",
       "      <td>Manual</td>\n",
       "      <td>119000</td>\n",
       "      <td>300</td>\n",
       "      <td>34.5</td>\n",
       "      <td>1.8</td>\n",
       "    </tr>\n",
       "    <tr>\n",
       "      <th>11174</th>\n",
       "      <td>2001</td>\n",
       "      <td>1695</td>\n",
       "      <td>Automatic</td>\n",
       "      <td>108800</td>\n",
       "      <td>325</td>\n",
       "      <td>31.7</td>\n",
       "      <td>3.2</td>\n",
       "    </tr>\n",
       "    <tr>\n",
       "      <th>12710</th>\n",
       "      <td>2006</td>\n",
       "      <td>1695</td>\n",
       "      <td>Automatic</td>\n",
       "      <td>153000</td>\n",
       "      <td>300</td>\n",
       "      <td>33.6</td>\n",
       "      <td>1.8</td>\n",
       "    </tr>\n",
       "    <tr>\n",
       "      <th>12766</th>\n",
       "      <td>2004</td>\n",
       "      <td>1780</td>\n",
       "      <td>Automatic</td>\n",
       "      <td>118000</td>\n",
       "      <td>265</td>\n",
       "      <td>41.5</td>\n",
       "      <td>2.2</td>\n",
       "    </tr>\n",
       "    <tr>\n",
       "      <th>12009</th>\n",
       "      <td>2007</td>\n",
       "      <td>1800</td>\n",
       "      <td>Automatic</td>\n",
       "      <td>84000</td>\n",
       "      <td>200</td>\n",
       "      <td>42.8</td>\n",
       "      <td>1.5</td>\n",
       "    </tr>\n",
       "    <tr>\n",
       "      <th>11764</th>\n",
       "      <td>1998</td>\n",
       "      <td>1990</td>\n",
       "      <td>Automatic</td>\n",
       "      <td>99300</td>\n",
       "      <td>265</td>\n",
       "      <td>32.1</td>\n",
       "      <td>2.3</td>\n",
       "    </tr>\n",
       "    <tr>\n",
       "      <th>11808</th>\n",
       "      <td>1998</td>\n",
       "      <td>1990</td>\n",
       "      <td>Automatic</td>\n",
       "      <td>113557</td>\n",
       "      <td>265</td>\n",
       "      <td>32.1</td>\n",
       "      <td>2.3</td>\n",
       "    </tr>\n",
       "    <tr>\n",
       "      <th>11383</th>\n",
       "      <td>2005</td>\n",
       "      <td>1995</td>\n",
       "      <td>Automatic</td>\n",
       "      <td>105000</td>\n",
       "      <td>260</td>\n",
       "      <td>43.5</td>\n",
       "      <td>2.1</td>\n",
       "    </tr>\n",
       "    <tr>\n",
       "      <th>11378</th>\n",
       "      <td>2004</td>\n",
       "      <td>1995</td>\n",
       "      <td>Semi-Auto</td>\n",
       "      <td>165000</td>\n",
       "      <td>330</td>\n",
       "      <td>20.0</td>\n",
       "      <td>3.7</td>\n",
       "    </tr>\n",
       "    <tr>\n",
       "      <th>11857</th>\n",
       "      <td>2002</td>\n",
       "      <td>2140</td>\n",
       "      <td>Automatic</td>\n",
       "      <td>52700</td>\n",
       "      <td>325</td>\n",
       "      <td>31.4</td>\n",
       "      <td>2.0</td>\n",
       "    </tr>\n",
       "    <tr>\n",
       "      <th>11906</th>\n",
       "      <td>2007</td>\n",
       "      <td>2478</td>\n",
       "      <td>Automatic</td>\n",
       "      <td>81000</td>\n",
       "      <td>160</td>\n",
       "      <td>49.6</td>\n",
       "      <td>2.0</td>\n",
       "    </tr>\n",
       "    <tr>\n",
       "      <th>11795</th>\n",
       "      <td>2005</td>\n",
       "      <td>2490</td>\n",
       "      <td>Automatic</td>\n",
       "      <td>101980</td>\n",
       "      <td>200</td>\n",
       "      <td>47.9</td>\n",
       "      <td>2.0</td>\n",
       "    </tr>\n",
       "    <tr>\n",
       "      <th>12765</th>\n",
       "      <td>2004</td>\n",
       "      <td>2495</td>\n",
       "      <td>Automatic</td>\n",
       "      <td>104000</td>\n",
       "      <td>325</td>\n",
       "      <td>31.7</td>\n",
       "      <td>1.8</td>\n",
       "    </tr>\n",
       "    <tr>\n",
       "      <th>11943</th>\n",
       "      <td>2005</td>\n",
       "      <td>2690</td>\n",
       "      <td>Automatic</td>\n",
       "      <td>109000</td>\n",
       "      <td>325</td>\n",
       "      <td>32.1</td>\n",
       "      <td>1.8</td>\n",
       "    </tr>\n",
       "    <tr>\n",
       "      <th>11263</th>\n",
       "      <td>2007</td>\n",
       "      <td>2795</td>\n",
       "      <td>Manual</td>\n",
       "      <td>79485</td>\n",
       "      <td>200</td>\n",
       "      <td>45.6</td>\n",
       "      <td>1.5</td>\n",
       "    </tr>\n",
       "    <tr>\n",
       "      <th>49</th>\n",
       "      <td>2006</td>\n",
       "      <td>2880</td>\n",
       "      <td>Automatic</td>\n",
       "      <td>66000</td>\n",
       "      <td>160</td>\n",
       "      <td>52.3</td>\n",
       "      <td>2.0</td>\n",
       "    </tr>\n",
       "  </tbody>\n",
       "</table>\n",
       "</div>"
      ],
      "text/plain": [
       "       year  price transmission  mileage  tax   mpg  engineSize\n",
       "11816  2003    650       Manual   109090  235  40.0         1.4\n",
       "12008  2010   1350       Manual   116126  145  54.3         2.0\n",
       "11765  2000   1490    Automatic    87000  265  27.2         3.2\n",
       "11549  2002   1495    Automatic    13800  305  39.8         2.7\n",
       "12594  2004   1495       Manual   119000  300  34.5         1.8\n",
       "11174  2001   1695    Automatic   108800  325  31.7         3.2\n",
       "12710  2006   1695    Automatic   153000  300  33.6         1.8\n",
       "12766  2004   1780    Automatic   118000  265  41.5         2.2\n",
       "12009  2007   1800    Automatic    84000  200  42.8         1.5\n",
       "11764  1998   1990    Automatic    99300  265  32.1         2.3\n",
       "11808  1998   1990    Automatic   113557  265  32.1         2.3\n",
       "11383  2005   1995    Automatic   105000  260  43.5         2.1\n",
       "11378  2004   1995    Semi-Auto   165000  330  20.0         3.7\n",
       "11857  2002   2140    Automatic    52700  325  31.4         2.0\n",
       "11906  2007   2478    Automatic    81000  160  49.6         2.0\n",
       "11795  2005   2490    Automatic   101980  200  47.9         2.0\n",
       "12765  2004   2495    Automatic   104000  325  31.7         1.8\n",
       "11943  2005   2690    Automatic   109000  325  32.1         1.8\n",
       "11263  2007   2795       Manual    79485  200  45.6         1.5\n",
       "49     2006   2880    Automatic    66000  160  52.3         2.0"
      ]
     },
     "execution_count": 13,
     "metadata": {},
     "output_type": "execute_result"
    }
   ],
   "source": [
    "dataFrame.sort_values(\"price\",ascending=True).head(20) # ascending true ise en düşük fiyat en yukarıda"
   ]
  },
  {
   "cell_type": "code",
   "execution_count": 14,
   "metadata": {},
   "outputs": [
    {
     "data": {
      "text/plain": [
       "131.19"
      ]
     },
     "execution_count": 14,
     "metadata": {},
     "output_type": "execute_result"
    }
   ],
   "source": [
    "len(dataFrame)*0.01"
   ]
  },
  {
   "cell_type": "markdown",
   "metadata": {},
   "source": [
    "EN YÜKSEK 131 FİYATI BULDUK VE ÇIKARDIK"
   ]
  },
  {
   "cell_type": "code",
   "execution_count": 15,
   "metadata": {},
   "outputs": [
    {
     "data": {
      "text/html": [
       "<div>\n",
       "<style scoped>\n",
       "    .dataframe tbody tr th:only-of-type {\n",
       "        vertical-align: middle;\n",
       "    }\n",
       "\n",
       "    .dataframe tbody tr th {\n",
       "        vertical-align: top;\n",
       "    }\n",
       "\n",
       "    .dataframe thead th {\n",
       "        text-align: right;\n",
       "    }\n",
       "</style>\n",
       "<table border=\"1\" class=\"dataframe\">\n",
       "  <thead>\n",
       "    <tr style=\"text-align: right;\">\n",
       "      <th></th>\n",
       "      <th>year</th>\n",
       "      <th>price</th>\n",
       "      <th>transmission</th>\n",
       "      <th>mileage</th>\n",
       "      <th>tax</th>\n",
       "      <th>mpg</th>\n",
       "      <th>engineSize</th>\n",
       "    </tr>\n",
       "  </thead>\n",
       "  <tbody>\n",
       "    <tr>\n",
       "      <th>6177</th>\n",
       "      <td>2019</td>\n",
       "      <td>65990</td>\n",
       "      <td>Semi-Auto</td>\n",
       "      <td>5076</td>\n",
       "      <td>150</td>\n",
       "      <td>30.4</td>\n",
       "      <td>3.0</td>\n",
       "    </tr>\n",
       "    <tr>\n",
       "      <th>5779</th>\n",
       "      <td>2020</td>\n",
       "      <td>65990</td>\n",
       "      <td>Semi-Auto</td>\n",
       "      <td>999</td>\n",
       "      <td>145</td>\n",
       "      <td>28.0</td>\n",
       "      <td>4.0</td>\n",
       "    </tr>\n",
       "    <tr>\n",
       "      <th>3191</th>\n",
       "      <td>2020</td>\n",
       "      <td>65980</td>\n",
       "      <td>Semi-Auto</td>\n",
       "      <td>3999</td>\n",
       "      <td>145</td>\n",
       "      <td>28.0</td>\n",
       "      <td>4.0</td>\n",
       "    </tr>\n",
       "    <tr>\n",
       "      <th>4727</th>\n",
       "      <td>2019</td>\n",
       "      <td>65000</td>\n",
       "      <td>Semi-Auto</td>\n",
       "      <td>3398</td>\n",
       "      <td>145</td>\n",
       "      <td>27.2</td>\n",
       "      <td>4.0</td>\n",
       "    </tr>\n",
       "    <tr>\n",
       "      <th>8814</th>\n",
       "      <td>2019</td>\n",
       "      <td>64999</td>\n",
       "      <td>Semi-Auto</td>\n",
       "      <td>119</td>\n",
       "      <td>145</td>\n",
       "      <td>40.9</td>\n",
       "      <td>3.0</td>\n",
       "    </tr>\n",
       "    <tr>\n",
       "      <th>...</th>\n",
       "      <td>...</td>\n",
       "      <td>...</td>\n",
       "      <td>...</td>\n",
       "      <td>...</td>\n",
       "      <td>...</td>\n",
       "      <td>...</td>\n",
       "      <td>...</td>\n",
       "    </tr>\n",
       "    <tr>\n",
       "      <th>11549</th>\n",
       "      <td>2002</td>\n",
       "      <td>1495</td>\n",
       "      <td>Automatic</td>\n",
       "      <td>13800</td>\n",
       "      <td>305</td>\n",
       "      <td>39.8</td>\n",
       "      <td>2.7</td>\n",
       "    </tr>\n",
       "    <tr>\n",
       "      <th>12594</th>\n",
       "      <td>2004</td>\n",
       "      <td>1495</td>\n",
       "      <td>Manual</td>\n",
       "      <td>119000</td>\n",
       "      <td>300</td>\n",
       "      <td>34.5</td>\n",
       "      <td>1.8</td>\n",
       "    </tr>\n",
       "    <tr>\n",
       "      <th>11765</th>\n",
       "      <td>2000</td>\n",
       "      <td>1490</td>\n",
       "      <td>Automatic</td>\n",
       "      <td>87000</td>\n",
       "      <td>265</td>\n",
       "      <td>27.2</td>\n",
       "      <td>3.2</td>\n",
       "    </tr>\n",
       "    <tr>\n",
       "      <th>12008</th>\n",
       "      <td>2010</td>\n",
       "      <td>1350</td>\n",
       "      <td>Manual</td>\n",
       "      <td>116126</td>\n",
       "      <td>145</td>\n",
       "      <td>54.3</td>\n",
       "      <td>2.0</td>\n",
       "    </tr>\n",
       "    <tr>\n",
       "      <th>11816</th>\n",
       "      <td>2003</td>\n",
       "      <td>650</td>\n",
       "      <td>Manual</td>\n",
       "      <td>109090</td>\n",
       "      <td>235</td>\n",
       "      <td>40.0</td>\n",
       "      <td>1.4</td>\n",
       "    </tr>\n",
       "  </tbody>\n",
       "</table>\n",
       "<p>12988 rows × 7 columns</p>\n",
       "</div>"
      ],
      "text/plain": [
       "       year  price transmission  mileage  tax   mpg  engineSize\n",
       "6177   2019  65990    Semi-Auto     5076  150  30.4         3.0\n",
       "5779   2020  65990    Semi-Auto      999  145  28.0         4.0\n",
       "3191   2020  65980    Semi-Auto     3999  145  28.0         4.0\n",
       "4727   2019  65000    Semi-Auto     3398  145  27.2         4.0\n",
       "8814   2019  64999    Semi-Auto      119  145  40.9         3.0\n",
       "...     ...    ...          ...      ...  ...   ...         ...\n",
       "11549  2002   1495    Automatic    13800  305  39.8         2.7\n",
       "12594  2004   1495       Manual   119000  300  34.5         1.8\n",
       "11765  2000   1490    Automatic    87000  265  27.2         3.2\n",
       "12008  2010   1350       Manual   116126  145  54.3         2.0\n",
       "11816  2003    650       Manual   109090  235  40.0         1.4\n",
       "\n",
       "[12988 rows x 7 columns]"
      ]
     },
     "execution_count": 15,
     "metadata": {},
     "output_type": "execute_result"
    }
   ],
   "source": [
    "dataFrame.sort_values(\"price\",ascending=False).iloc[131:]"
   ]
  },
  {
   "cell_type": "code",
   "execution_count": 16,
   "metadata": {},
   "outputs": [],
   "source": [
    "dataFrame99=dataFrame.sort_values(\"price\",ascending=False).iloc[131:]"
   ]
  },
  {
   "cell_type": "code",
   "execution_count": 17,
   "metadata": {},
   "outputs": [
    {
     "name": "stderr",
     "output_type": "stream",
     "text": [
      "C:\\ProgramData\\Anaconda3\\lib\\site-packages\\seaborn\\distributions.py:2551: FutureWarning: `distplot` is a deprecated function and will be removed in a future version. Please adapt your code to use either `displot` (a figure-level function with similar flexibility) or `histplot` (an axes-level function for histograms).\n",
      "  warnings.warn(msg, FutureWarning)\n"
     ]
    },
    {
     "data": {
      "text/plain": [
       "<AxesSubplot:xlabel='price', ylabel='Density'>"
      ]
     },
     "execution_count": 17,
     "metadata": {},
     "output_type": "execute_result"
    },
    {
     "data": {
      "image/png": "[encoded data removed]",
      "text/plain": [
       "<Figure size 432x288 with 1 Axes>"
      ]
     },
     "metadata": {
      "needs_background": "light"
     },
     "output_type": "display_data"
    }
   ],
   "source": [
    "sbn.distplot(dataFrame99[\"price\"])"
   ]
  },
  {
   "cell_type": "code",
   "execution_count": 18,
   "metadata": {},
   "outputs": [
    {
     "data": {
      "text/plain": [
       "<AxesSubplot:xlabel='mileage', ylabel='price'>"
      ]
     },
     "execution_count": 18,
     "metadata": {},
     "output_type": "execute_result"
    },
    {
     "data": {
      "image/png": "[encoded data removed]",
      "text/plain": [
       "<Figure size 432x288 with 1 Axes>"
      ]
     },
     "metadata": {
      "needs_background": "light"
     },
     "output_type": "display_data"
    }
   ],
   "source": [
    "sbn.scatterplot(x=\"mileage\",y=\"price\",data=dataFrame99)"
   ]
  },
  {
   "cell_type": "code",
   "execution_count": 19,
   "metadata": {},
   "outputs": [
    {
     "data": {
      "text/plain": [
       "year\n",
       "1970    24999.000000\n",
       "1997     9995.000000\n",
       "1998     8605.000000\n",
       "1999     5995.000000\n",
       "2000     5743.333333\n",
       "2001     4957.900000\n",
       "2002     5820.444444\n",
       "2003     4878.000000\n",
       "2004     4727.615385\n",
       "2005     4426.111111\n",
       "2006     4036.875000\n",
       "2007     5136.045455\n",
       "2008     6967.437500\n",
       "2009     6166.764706\n",
       "2010     8308.473684\n",
       "2011     8913.459459\n",
       "2012    10845.140351\n",
       "2013    11939.842466\n",
       "2014    14042.936864\n",
       "2015    16647.822222\n",
       "2016    19223.558943\n",
       "2017    21356.280421\n",
       "2018    24800.844506\n",
       "2019    30289.524832\n",
       "2020    34234.794872\n",
       "Name: price, dtype: float64"
      ]
     },
     "execution_count": 19,
     "metadata": {},
     "output_type": "execute_result"
    }
   ],
   "source": [
    "dataFrame99.groupby(\"year\").mean()[\"price\"]"
   ]
  },
  {
   "cell_type": "code",
   "execution_count": 20,
   "metadata": {},
   "outputs": [],
   "source": [
    "dataFrame=dataFrame99"
   ]
  },
  {
   "cell_type": "code",
   "execution_count": 21,
   "metadata": {},
   "outputs": [
    {
     "data": {
      "text/html": [
       "<div>\n",
       "<style scoped>\n",
       "    .dataframe tbody tr th:only-of-type {\n",
       "        vertical-align: middle;\n",
       "    }\n",
       "\n",
       "    .dataframe tbody tr th {\n",
       "        vertical-align: top;\n",
       "    }\n",
       "\n",
       "    .dataframe thead th {\n",
       "        text-align: right;\n",
       "    }\n",
       "</style>\n",
       "<table border=\"1\" class=\"dataframe\">\n",
       "  <thead>\n",
       "    <tr style=\"text-align: right;\">\n",
       "      <th></th>\n",
       "      <th>year</th>\n",
       "      <th>price</th>\n",
       "      <th>mileage</th>\n",
       "      <th>tax</th>\n",
       "      <th>mpg</th>\n",
       "      <th>engineSize</th>\n",
       "    </tr>\n",
       "  </thead>\n",
       "  <tbody>\n",
       "    <tr>\n",
       "      <th>count</th>\n",
       "      <td>12988.000000</td>\n",
       "      <td>12988.000000</td>\n",
       "      <td>12988.000000</td>\n",
       "      <td>12988.000000</td>\n",
       "      <td>12988.000000</td>\n",
       "      <td>12988.000000</td>\n",
       "    </tr>\n",
       "    <tr>\n",
       "      <th>mean</th>\n",
       "      <td>2017.281876</td>\n",
       "      <td>24074.926933</td>\n",
       "      <td>22132.741146</td>\n",
       "      <td>129.689714</td>\n",
       "      <td>55.437142</td>\n",
       "      <td>2.050901</td>\n",
       "    </tr>\n",
       "    <tr>\n",
       "      <th>std</th>\n",
       "      <td>2.228515</td>\n",
       "      <td>9866.224575</td>\n",
       "      <td>21196.776401</td>\n",
       "      <td>65.183076</td>\n",
       "      <td>15.025999</td>\n",
       "      <td>0.532596</td>\n",
       "    </tr>\n",
       "    <tr>\n",
       "      <th>min</th>\n",
       "      <td>1970.000000</td>\n",
       "      <td>650.000000</td>\n",
       "      <td>1.000000</td>\n",
       "      <td>0.000000</td>\n",
       "      <td>1.100000</td>\n",
       "      <td>0.000000</td>\n",
       "    </tr>\n",
       "    <tr>\n",
       "      <th>25%</th>\n",
       "      <td>2016.000000</td>\n",
       "      <td>17357.500000</td>\n",
       "      <td>6322.000000</td>\n",
       "      <td>125.000000</td>\n",
       "      <td>45.600000</td>\n",
       "      <td>1.675000</td>\n",
       "    </tr>\n",
       "    <tr>\n",
       "      <th>50%</th>\n",
       "      <td>2018.000000</td>\n",
       "      <td>22299.000000</td>\n",
       "      <td>15369.500000</td>\n",
       "      <td>145.000000</td>\n",
       "      <td>56.500000</td>\n",
       "      <td>2.000000</td>\n",
       "    </tr>\n",
       "    <tr>\n",
       "      <th>75%</th>\n",
       "      <td>2019.000000</td>\n",
       "      <td>28706.000000</td>\n",
       "      <td>31982.250000</td>\n",
       "      <td>145.000000</td>\n",
       "      <td>64.200000</td>\n",
       "      <td>2.100000</td>\n",
       "    </tr>\n",
       "    <tr>\n",
       "      <th>max</th>\n",
       "      <td>2020.000000</td>\n",
       "      <td>65990.000000</td>\n",
       "      <td>259000.000000</td>\n",
       "      <td>580.000000</td>\n",
       "      <td>217.300000</td>\n",
       "      <td>6.200000</td>\n",
       "    </tr>\n",
       "  </tbody>\n",
       "</table>\n",
       "</div>"
      ],
      "text/plain": [
       "               year         price        mileage           tax           mpg  \\\n",
       "count  12988.000000  12988.000000   12988.000000  12988.000000  12988.000000   \n",
       "mean    2017.281876  24074.926933   22132.741146    129.689714     55.437142   \n",
       "std        2.228515   9866.224575   21196.776401     65.183076     15.025999   \n",
       "min     1970.000000    650.000000       1.000000      0.000000      1.100000   \n",
       "25%     2016.000000  17357.500000    6322.000000    125.000000     45.600000   \n",
       "50%     2018.000000  22299.000000   15369.500000    145.000000     56.500000   \n",
       "75%     2019.000000  28706.000000   31982.250000    145.000000     64.200000   \n",
       "max     2020.000000  65990.000000  259000.000000    580.000000    217.300000   \n",
       "\n",
       "         engineSize  \n",
       "count  12988.000000  \n",
       "mean       2.050901  \n",
       "std        0.532596  \n",
       "min        0.000000  \n",
       "25%        1.675000  \n",
       "50%        2.000000  \n",
       "75%        2.100000  \n",
       "max        6.200000  "
      ]
     },
     "execution_count": 21,
     "metadata": {},
     "output_type": "execute_result"
    }
   ],
   "source": [
    "dataFrame.describe()"
   ]
  },
  {
   "cell_type": "code",
   "execution_count": 22,
   "metadata": {},
   "outputs": [],
   "source": [
    "dataFrame=dataFrame[dataFrame.year !=1970]"
   ]
  },
  {
   "cell_type": "markdown",
   "metadata": {},
   "source": [
    "dataFrame.groupby(\"year\").mean()[\"price\"] \n",
    "\n",
    "BURADA BÖYLE YAPMAMIZIN SEBEBİ BİRDEN ÇOK ARABA AYNI YILDA SATILDIĞI İÇİN MEAN YAPIP ORTALAMASINI ALIYORUZ.\n",
    "\n",
    "ORTALAMA DEĞERLERDEN price İ GETİRİYORUZ."
   ]
  },
  {
   "cell_type": "code",
   "execution_count": 23,
   "metadata": {},
   "outputs": [
    {
     "data": {
      "text/plain": [
       "year\n",
       "1997     9995.000000\n",
       "1998     8605.000000\n",
       "1999     5995.000000\n",
       "2000     5743.333333\n",
       "2001     4957.900000\n",
       "2002     5820.444444\n",
       "2003     4878.000000\n",
       "2004     4727.615385\n",
       "2005     4426.111111\n",
       "2006     4036.875000\n",
       "2007     5136.045455\n",
       "2008     6967.437500\n",
       "2009     6166.764706\n",
       "2010     8308.473684\n",
       "2011     8913.459459\n",
       "2012    10845.140351\n",
       "2013    11939.842466\n",
       "2014    14042.936864\n",
       "2015    16647.822222\n",
       "2016    19223.558943\n",
       "2017    21356.280421\n",
       "2018    24800.844506\n",
       "2019    30289.524832\n",
       "2020    34234.794872\n",
       "Name: price, dtype: float64"
      ]
     },
     "execution_count": 23,
     "metadata": {},
     "output_type": "execute_result"
    }
   ],
   "source": [
    "dataFrame.groupby(\"year\").mean()[\"price\"]"
   ]
  },
  {
   "cell_type": "code",
   "execution_count": 24,
   "metadata": {},
   "outputs": [
    {
     "name": "stderr",
     "output_type": "stream",
     "text": [
      "<ipython-input-24-be232bc06016>:1: SettingWithCopyWarning: \n",
      "A value is trying to be set on a copy of a slice from a DataFrame.\n",
      "Try using .loc[row_indexer,col_indexer] = value instead\n",
      "\n",
      "See the caveats in the documentation: https://pandas.pydata.org/pandas-docs/stable/user_guide/indexing.html#returning-a-view-versus-a-copy\n",
      "  dataFrame[\"transmission\"]=1 # boş oldu bu\n"
     ]
    }
   ],
   "source": [
    "dataFrame[\"transmission\"]=1 # boş oldu bu"
   ]
  },
  {
   "cell_type": "code",
   "execution_count": 25,
   "metadata": {},
   "outputs": [],
   "source": [
    "dataFrame=dataFrame.drop(\"transmission\",axis=1)"
   ]
  },
  {
   "cell_type": "code",
   "execution_count": 26,
   "metadata": {},
   "outputs": [
    {
     "data": {
      "text/html": [
       "<div>\n",
       "<style scoped>\n",
       "    .dataframe tbody tr th:only-of-type {\n",
       "        vertical-align: middle;\n",
       "    }\n",
       "\n",
       "    .dataframe tbody tr th {\n",
       "        vertical-align: top;\n",
       "    }\n",
       "\n",
       "    .dataframe thead th {\n",
       "        text-align: right;\n",
       "    }\n",
       "</style>\n",
       "<table border=\"1\" class=\"dataframe\">\n",
       "  <thead>\n",
       "    <tr style=\"text-align: right;\">\n",
       "      <th></th>\n",
       "      <th>year</th>\n",
       "      <th>price</th>\n",
       "      <th>mileage</th>\n",
       "      <th>tax</th>\n",
       "      <th>mpg</th>\n",
       "      <th>engineSize</th>\n",
       "    </tr>\n",
       "  </thead>\n",
       "  <tbody>\n",
       "    <tr>\n",
       "      <th>6177</th>\n",
       "      <td>2019</td>\n",
       "      <td>65990</td>\n",
       "      <td>5076</td>\n",
       "      <td>150</td>\n",
       "      <td>30.4</td>\n",
       "      <td>3.0</td>\n",
       "    </tr>\n",
       "    <tr>\n",
       "      <th>5779</th>\n",
       "      <td>2020</td>\n",
       "      <td>65990</td>\n",
       "      <td>999</td>\n",
       "      <td>145</td>\n",
       "      <td>28.0</td>\n",
       "      <td>4.0</td>\n",
       "    </tr>\n",
       "    <tr>\n",
       "      <th>3191</th>\n",
       "      <td>2020</td>\n",
       "      <td>65980</td>\n",
       "      <td>3999</td>\n",
       "      <td>145</td>\n",
       "      <td>28.0</td>\n",
       "      <td>4.0</td>\n",
       "    </tr>\n",
       "    <tr>\n",
       "      <th>4727</th>\n",
       "      <td>2019</td>\n",
       "      <td>65000</td>\n",
       "      <td>3398</td>\n",
       "      <td>145</td>\n",
       "      <td>27.2</td>\n",
       "      <td>4.0</td>\n",
       "    </tr>\n",
       "    <tr>\n",
       "      <th>8814</th>\n",
       "      <td>2019</td>\n",
       "      <td>64999</td>\n",
       "      <td>119</td>\n",
       "      <td>145</td>\n",
       "      <td>40.9</td>\n",
       "      <td>3.0</td>\n",
       "    </tr>\n",
       "  </tbody>\n",
       "</table>\n",
       "</div>"
      ],
      "text/plain": [
       "      year  price  mileage  tax   mpg  engineSize\n",
       "6177  2019  65990     5076  150  30.4         3.0\n",
       "5779  2020  65990      999  145  28.0         4.0\n",
       "3191  2020  65980     3999  145  28.0         4.0\n",
       "4727  2019  65000     3398  145  27.2         4.0\n",
       "8814  2019  64999      119  145  40.9         3.0"
      ]
     },
     "execution_count": 26,
     "metadata": {},
     "output_type": "execute_result"
    }
   ],
   "source": [
    "dataFrame.head()"
   ]
  },
  {
   "cell_type": "code",
   "execution_count": 27,
   "metadata": {},
   "outputs": [],
   "source": [
    "y=dataFrame[\"price\"].values\n",
    "x=dataFrame.drop(\"price\",axis=1).values"
   ]
  },
  {
   "cell_type": "code",
   "execution_count": 28,
   "metadata": {},
   "outputs": [
    {
     "data": {
      "text/plain": [
       "array([65990, 65990, 65980, ...,  1490,  1350,   650], dtype=int64)"
      ]
     },
     "execution_count": 28,
     "metadata": {},
     "output_type": "execute_result"
    }
   ],
   "source": [
    "y"
   ]
  },
  {
   "cell_type": "code",
   "execution_count": 29,
   "metadata": {},
   "outputs": [
    {
     "data": {
      "text/plain": [
       "array([[2.01900e+03, 5.07600e+03, 1.50000e+02, 3.04000e+01, 3.00000e+00],\n",
       "       [2.02000e+03, 9.99000e+02, 1.45000e+02, 2.80000e+01, 4.00000e+00],\n",
       "       [2.02000e+03, 3.99900e+03, 1.45000e+02, 2.80000e+01, 4.00000e+00],\n",
       "       ...,\n",
       "       [2.00000e+03, 8.70000e+04, 2.65000e+02, 2.72000e+01, 3.20000e+00],\n",
       "       [2.01000e+03, 1.16126e+05, 1.45000e+02, 5.43000e+01, 2.00000e+00],\n",
       "       [2.00300e+03, 1.09090e+05, 2.35000e+02, 4.00000e+01, 1.40000e+00]])"
      ]
     },
     "execution_count": 29,
     "metadata": {},
     "output_type": "execute_result"
    }
   ],
   "source": [
    "x"
   ]
  },
  {
   "cell_type": "markdown",
   "metadata": {},
   "source": [
    "VERİYİ AYIRIYORUZ"
   ]
  },
  {
   "cell_type": "code",
   "execution_count": 30,
   "metadata": {},
   "outputs": [],
   "source": [
    "from sklearn.model_selection import train_test_split"
   ]
  },
  {
   "cell_type": "code",
   "execution_count": 31,
   "metadata": {},
   "outputs": [],
   "source": [
    "x_train,x_test,y_train,y_test=train_test_split(x,y,test_size=0.3,random_state=42)"
   ]
  },
  {
   "cell_type": "code",
   "execution_count": 32,
   "metadata": {},
   "outputs": [
    {
     "data": {
      "text/plain": [
       "9090"
      ]
     },
     "execution_count": 32,
     "metadata": {},
     "output_type": "execute_result"
    }
   ],
   "source": [
    "len(x_train)"
   ]
  },
  {
   "cell_type": "code",
   "execution_count": 33,
   "metadata": {},
   "outputs": [
    {
     "data": {
      "text/plain": [
       "3897"
      ]
     },
     "execution_count": 33,
     "metadata": {},
     "output_type": "execute_result"
    }
   ],
   "source": [
    "len(x_test)"
   ]
  },
  {
   "cell_type": "code",
   "execution_count": 34,
   "metadata": {},
   "outputs": [],
   "source": [
    "from sklearn.preprocessing import MinMaxScaler"
   ]
  },
  {
   "cell_type": "code",
   "execution_count": 35,
   "metadata": {},
   "outputs": [],
   "source": [
    "scaler=MinMaxScaler()"
   ]
  },
  {
   "cell_type": "code",
   "execution_count": 36,
   "metadata": {},
   "outputs": [],
   "source": [
    "x_train=scaler.fit_transform(x_train)"
   ]
  },
  {
   "cell_type": "code",
   "execution_count": 37,
   "metadata": {},
   "outputs": [],
   "source": [
    "x_test=scaler.transform(x_test)"
   ]
  },
  {
   "cell_type": "code",
   "execution_count": 38,
   "metadata": {},
   "outputs": [],
   "source": [
    "from tensorflow.keras.models import Sequential # modelimizi oluşturuyoruz\n",
    "from tensorflow.keras.layers import Dense # katmanlarımızı oluşturuyoruz"
   ]
  },
  {
   "cell_type": "code",
   "execution_count": 39,
   "metadata": {},
   "outputs": [
    {
     "data": {
      "text/plain": [
       "(9090, 5)"
      ]
     },
     "execution_count": 39,
     "metadata": {},
     "output_type": "execute_result"
    }
   ],
   "source": [
    "x_train.shape"
   ]
  },
  {
   "cell_type": "code",
   "execution_count": 40,
   "metadata": {},
   "outputs": [
    {
     "data": {
      "text/plain": [
       "(3897, 5)"
      ]
     },
     "execution_count": 40,
     "metadata": {},
     "output_type": "execute_result"
    }
   ],
   "source": [
    "x_test.shape"
   ]
  },
  {
   "cell_type": "markdown",
   "metadata": {},
   "source": [
    "MODEL OLUŞTU"
   ]
  },
  {
   "cell_type": "code",
   "execution_count": 41,
   "metadata": {},
   "outputs": [],
   "source": [
    "model=Sequential()\n",
    "\n",
    "model.add(Dense(12,activation=\"relu\"))\n",
    "model.add(Dense(12,activation=\"relu\"))\n",
    "model.add(Dense(12,activation=\"relu\"))\n",
    "model.add(Dense(12,activation=\"relu\"))\n",
    "\n",
    "model.add(Dense(1)) # çıkış katmanı\n",
    "\n",
    "model.compile(optimizer=\"adam\",loss=\"mse\") # rmspromp not aldım\n"
   ]
  },
  {
   "cell_type": "markdown",
   "metadata": {},
   "source": [
    "MODELİ EĞİTME"
   ]
  },
  {
   "cell_type": "code",
   "execution_count": 42,
   "metadata": {},
   "outputs": [
    {
     "name": "stdout",
     "output_type": "stream",
     "text": [
      "Epoch 1/300\n",
      "37/37 [==============================] - 2s 28ms/step - loss: 672670389.8947 - val_loss: 682888448.0000\n",
      "Epoch 2/300\n",
      "37/37 [==============================] - 0s 4ms/step - loss: 671889972.2105 - val_loss: 682833344.0000\n",
      "Epoch 3/300\n",
      "37/37 [==============================] - 0s 3ms/step - loss: 671329244.6316 - val_loss: 682683072.0000\n",
      "Epoch 4/300\n",
      "37/37 [==============================] - 0s 4ms/step - loss: 682161664.0000 - val_loss: 682318976.0000\n",
      "Epoch 5/300\n",
      "37/37 [==============================] - 0s 4ms/step - loss: 670979341.4737 - val_loss: 681430912.0000\n",
      "Epoch 6/300\n",
      "37/37 [==============================] - 0s 3ms/step - loss: 678505908.2105 - val_loss: 679495552.0000\n",
      "Epoch 7/300\n",
      "37/37 [==============================] - 0s 3ms/step - loss: 660734329.2632 - val_loss: 675548800.0000\n",
      "Epoch 8/300\n",
      "37/37 [==============================] - 0s 3ms/step - loss: 661278438.7368 - val_loss: 668115392.0000\n",
      "Epoch 9/300\n",
      "37/37 [==============================] - 0s 3ms/step - loss: 657085813.8947 - val_loss: 654939840.0000\n",
      "Epoch 10/300\n",
      "37/37 [==============================] - 0s 3ms/step - loss: 643479452.6316 - val_loss: 633525120.0000\n",
      "Epoch 11/300\n",
      "37/37 [==============================] - 0s 2ms/step - loss: 626957834.1053 - val_loss: 601030592.0000\n",
      "Epoch 12/300\n",
      "37/37 [==============================] - 0s 2ms/step - loss: 581684474.9474 - val_loss: 555019776.0000\n",
      "Epoch 13/300\n",
      "37/37 [==============================] - 0s 2ms/step - loss: 533601359.1579 - val_loss: 494210432.0000\n",
      "Epoch 14/300\n",
      "37/37 [==============================] - 0s 2ms/step - loss: 467841146.1053 - val_loss: 420163776.0000\n",
      "Epoch 15/300\n",
      "37/37 [==============================] - 0s 2ms/step - loss: 389234953.2632 - val_loss: 337413952.0000\n",
      "Epoch 16/300\n",
      "37/37 [==============================] - 0s 2ms/step - loss: 312565704.4211 - val_loss: 254967456.0000\n",
      "Epoch 17/300\n",
      "37/37 [==============================] - 0s 2ms/step - loss: 235481518.3158 - val_loss: 183973392.0000\n",
      "Epoch 18/300\n",
      "37/37 [==============================] - 0s 2ms/step - loss: 171421325.0526 - val_loss: 133605912.0000\n",
      "Epoch 19/300\n",
      "37/37 [==============================] - 0s 2ms/step - loss: 123002306.3158 - val_loss: 105689904.0000\n",
      "Epoch 20/300\n",
      "37/37 [==============================] - 0s 2ms/step - loss: 96768910.3158 - val_loss: 93862352.0000\n",
      "Epoch 21/300\n",
      "37/37 [==============================] - 0s 2ms/step - loss: 89772267.7895 - val_loss: 89793864.0000\n",
      "Epoch 22/300\n",
      "37/37 [==============================] - 0s 2ms/step - loss: 88070110.5263 - val_loss: 88500320.0000\n",
      "Epoch 23/300\n",
      "37/37 [==============================] - 0s 2ms/step - loss: 86821065.8947 - val_loss: 87810848.0000\n",
      "Epoch 24/300\n",
      "37/37 [==============================] - 0s 2ms/step - loss: 86108940.2105 - val_loss: 87297792.0000\n",
      "Epoch 25/300\n",
      "37/37 [==============================] - 0s 2ms/step - loss: 85978192.6316 - val_loss: 86816704.0000\n",
      "Epoch 26/300\n",
      "37/37 [==============================] - 0s 2ms/step - loss: 86023108.4211 - val_loss: 86368856.0000\n",
      "Epoch 27/300\n",
      "37/37 [==============================] - 0s 2ms/step - loss: 85799423.5789 - val_loss: 85937792.0000\n",
      "Epoch 28/300\n",
      "37/37 [==============================] - 0s 2ms/step - loss: 84098587.7895 - val_loss: 85514000.0000\n",
      "Epoch 29/300\n",
      "37/37 [==============================] - 0s 2ms/step - loss: 83068684.0000 - val_loss: 85111168.0000\n",
      "Epoch 30/300\n",
      "37/37 [==============================] - 0s 2ms/step - loss: 80660738.2105 - val_loss: 84706912.0000\n",
      "Epoch 31/300\n",
      "37/37 [==============================] - 0s 2ms/step - loss: 84648259.1579 - val_loss: 84310480.0000\n",
      "Epoch 32/300\n",
      "37/37 [==============================] - 0s 2ms/step - loss: 81816005.0526 - val_loss: 83917840.0000\n",
      "Epoch 33/300\n",
      "37/37 [==============================] - 0s 2ms/step - loss: 80132066.5263 - val_loss: 83539720.0000\n",
      "Epoch 34/300\n",
      "37/37 [==============================] - 0s 2ms/step - loss: 85350033.8947 - val_loss: 83153928.0000\n",
      "Epoch 35/300\n",
      "37/37 [==============================] - 0s 2ms/step - loss: 79316536.0000 - val_loss: 82781832.0000\n",
      "Epoch 36/300\n",
      "37/37 [==============================] - 0s 2ms/step - loss: 79939299.3684 - val_loss: 82407568.0000\n",
      "Epoch 37/300\n",
      "37/37 [==============================] - 0s 2ms/step - loss: 81544249.0526 - val_loss: 82026504.0000\n",
      "Epoch 38/300\n",
      "37/37 [==============================] - 0s 2ms/step - loss: 79208392.6316 - val_loss: 81667512.0000\n",
      "Epoch 39/300\n",
      "37/37 [==============================] - 0s 2ms/step - loss: 79133499.7895 - val_loss: 81299400.0000\n",
      "Epoch 40/300\n",
      "37/37 [==============================] - 0s 2ms/step - loss: 79674864.6316 - val_loss: 80923464.0000\n",
      "Epoch 41/300\n",
      "37/37 [==============================] - 0s 2ms/step - loss: 78266656.0000 - val_loss: 80557672.0000\n",
      "Epoch 42/300\n",
      "37/37 [==============================] - 0s 2ms/step - loss: 80069006.1053 - val_loss: 80189752.0000\n",
      "Epoch 43/300\n",
      "37/37 [==============================] - 0s 2ms/step - loss: 77086786.9474 - val_loss: 79828128.0000\n",
      "Epoch 44/300\n",
      "37/37 [==============================] - 0s 2ms/step - loss: 79653285.4737 - val_loss: 79457488.0000\n",
      "Epoch 45/300\n",
      "37/37 [==============================] - 0s 2ms/step - loss: 79856401.2632 - val_loss: 79102488.0000\n",
      "Epoch 46/300\n",
      "37/37 [==============================] - 0s 2ms/step - loss: 74492733.5789 - val_loss: 78727624.0000\n",
      "Epoch 47/300\n",
      "37/37 [==============================] - 0s 2ms/step - loss: 77598835.7895 - val_loss: 78363928.0000\n",
      "Epoch 48/300\n",
      "37/37 [==============================] - 0s 2ms/step - loss: 75257898.7368 - val_loss: 77994112.0000\n",
      "Epoch 49/300\n",
      "37/37 [==============================] - 0s 2ms/step - loss: 75325596.0000 - val_loss: 77620968.0000\n",
      "Epoch 50/300\n",
      "37/37 [==============================] - 0s 2ms/step - loss: 73685940.8421 - val_loss: 77260232.0000\n",
      "Epoch 51/300\n",
      "37/37 [==============================] - 0s 2ms/step - loss: 75949684.4211 - val_loss: 76887288.0000\n",
      "Epoch 52/300\n",
      "37/37 [==============================] - 0s 2ms/step - loss: 74270787.5789 - val_loss: 76465792.0000\n",
      "Epoch 53/300\n",
      "37/37 [==============================] - 0s 2ms/step - loss: 74098407.1579 - val_loss: 75977680.0000\n",
      "Epoch 54/300\n",
      "37/37 [==============================] - 0s 2ms/step - loss: 71452689.1579 - val_loss: 75457968.0000\n",
      "Epoch 55/300\n",
      "37/37 [==============================] - 0s 2ms/step - loss: 72802561.8947 - val_loss: 74899696.0000\n",
      "Epoch 56/300\n",
      "37/37 [==============================] - 0s 2ms/step - loss: 69947275.4737 - val_loss: 74343472.0000\n",
      "Epoch 57/300\n",
      "37/37 [==============================] - 0s 2ms/step - loss: 71379014.9474 - val_loss: 73786296.0000\n",
      "Epoch 58/300\n",
      "37/37 [==============================] - 0s 2ms/step - loss: 69640919.8947 - val_loss: 73210480.0000\n",
      "Epoch 59/300\n",
      "37/37 [==============================] - 0s 2ms/step - loss: 73178448.2105 - val_loss: 72636240.0000\n",
      "Epoch 60/300\n",
      "37/37 [==============================] - 0s 2ms/step - loss: 71687522.7368 - val_loss: 72068760.0000\n",
      "Epoch 61/300\n",
      "37/37 [==============================] - 0s 2ms/step - loss: 67215944.3158 - val_loss: 71474624.0000\n",
      "Epoch 62/300\n",
      "37/37 [==============================] - 0s 2ms/step - loss: 69712162.2105 - val_loss: 70879832.0000\n",
      "Epoch 63/300\n",
      "37/37 [==============================] - 0s 2ms/step - loss: 68618564.6316 - val_loss: 70289072.0000\n",
      "Epoch 64/300\n",
      "37/37 [==============================] - 0s 2ms/step - loss: 66364746.7368 - val_loss: 69683848.0000\n",
      "Epoch 65/300\n",
      "37/37 [==============================] - 0s 2ms/step - loss: 67063709.1579 - val_loss: 69071264.0000\n",
      "Epoch 66/300\n",
      "37/37 [==============================] - 0s 2ms/step - loss: 64868780.9474 - val_loss: 68462728.0000\n",
      "Epoch 67/300\n",
      "37/37 [==============================] - 0s 2ms/step - loss: 66244347.8947 - val_loss: 67836920.0000\n",
      "Epoch 68/300\n",
      "37/37 [==============================] - 0s 1ms/step - loss: 65098294.3158 - val_loss: 67215344.0000\n",
      "Epoch 69/300\n",
      "37/37 [==============================] - 0s 2ms/step - loss: 64130411.4737 - val_loss: 66584280.0000\n",
      "Epoch 70/300\n",
      "37/37 [==============================] - 0s 2ms/step - loss: 64155766.7368 - val_loss: 65935764.0000\n",
      "Epoch 71/300\n",
      "37/37 [==============================] - 0s 2ms/step - loss: 62824957.7895 - val_loss: 65302992.0000\n",
      "Epoch 72/300\n",
      "37/37 [==============================] - 0s 1ms/step - loss: 60722034.5263 - val_loss: 64650020.0000\n",
      "Epoch 73/300\n",
      "37/37 [==============================] - 0s 2ms/step - loss: 62459522.7368 - val_loss: 64006204.0000\n",
      "Epoch 74/300\n",
      "37/37 [==============================] - 0s 2ms/step - loss: 59890047.0526 - val_loss: 63336744.0000\n",
      "Epoch 75/300\n",
      "37/37 [==============================] - 0s 2ms/step - loss: 59882890.0000 - val_loss: 62664472.0000\n",
      "Epoch 76/300\n",
      "37/37 [==============================] - 0s 2ms/step - loss: 58788638.8421 - val_loss: 61994784.0000\n",
      "Epoch 77/300\n",
      "37/37 [==============================] - 0s 2ms/step - loss: 57161317.2632 - val_loss: 61309652.0000\n",
      "Epoch 78/300\n",
      "37/37 [==============================] - 0s 2ms/step - loss: 57078206.6316 - val_loss: 60628468.0000\n",
      "Epoch 79/300\n",
      "37/37 [==============================] - 0s 2ms/step - loss: 58606993.4737 - val_loss: 59925896.0000\n",
      "Epoch 80/300\n",
      "37/37 [==============================] - 0s 2ms/step - loss: 56681914.4211 - val_loss: 59233412.0000\n",
      "Epoch 81/300\n",
      "37/37 [==============================] - 0s 2ms/step - loss: 54411060.2105 - val_loss: 58465040.0000\n",
      "Epoch 82/300\n",
      "37/37 [==============================] - 0s 2ms/step - loss: 54809521.0526 - val_loss: 57674084.0000\n",
      "Epoch 83/300\n",
      "37/37 [==============================] - 0s 1ms/step - loss: 53644093.7895 - val_loss: 56880756.0000\n",
      "Epoch 84/300\n",
      "37/37 [==============================] - 0s 2ms/step - loss: 51613902.2105 - val_loss: 56091960.0000\n",
      "Epoch 85/300\n",
      "37/37 [==============================] - 0s 2ms/step - loss: 50732210.0000 - val_loss: 55281408.0000\n",
      "Epoch 86/300\n",
      "37/37 [==============================] - 0s 2ms/step - loss: 50859704.4211 - val_loss: 54463772.0000\n",
      "Epoch 87/300\n",
      "37/37 [==============================] - 0s 2ms/step - loss: 52514787.3684 - val_loss: 53652828.0000\n",
      "Epoch 88/300\n",
      "37/37 [==============================] - 0s 2ms/step - loss: 50395349.3684 - val_loss: 52817704.0000\n",
      "Epoch 89/300\n",
      "37/37 [==============================] - 0s 2ms/step - loss: 47942062.6316 - val_loss: 51997272.0000\n",
      "Epoch 90/300\n",
      "37/37 [==============================] - 0s 2ms/step - loss: 49145145.7895 - val_loss: 51148340.0000\n",
      "Epoch 91/300\n",
      "37/37 [==============================] - 0s 2ms/step - loss: 46728653.2632 - val_loss: 50344324.0000\n",
      "Epoch 92/300\n",
      "37/37 [==============================] - 0s 2ms/step - loss: 44227369.2632 - val_loss: 49456936.0000\n",
      "Epoch 93/300\n",
      "37/37 [==============================] - 0s 2ms/step - loss: 45952761.6842 - val_loss: 48652996.0000\n",
      "Epoch 94/300\n",
      "37/37 [==============================] - 0s 2ms/step - loss: 44218665.6842 - val_loss: 47720368.0000\n",
      "Epoch 95/300\n",
      "37/37 [==============================] - 0s 2ms/step - loss: 42947644.4211 - val_loss: 46869436.0000\n",
      "Epoch 96/300\n",
      "37/37 [==============================] - 0s 2ms/step - loss: 41393490.0000 - val_loss: 46032368.0000\n",
      "Epoch 97/300\n",
      "37/37 [==============================] - 0s 2ms/step - loss: 42823790.7368 - val_loss: 45222176.0000\n",
      "Epoch 98/300\n",
      "37/37 [==============================] - 0s 2ms/step - loss: 42454603.3684 - val_loss: 44401672.0000\n",
      "Epoch 99/300\n",
      "37/37 [==============================] - 0s 2ms/step - loss: 41700219.0526 - val_loss: 43703796.0000\n",
      "Epoch 100/300\n",
      "37/37 [==============================] - 0s 1ms/step - loss: 39917222.7368 - val_loss: 42879896.0000\n",
      "Epoch 101/300\n",
      "37/37 [==============================] - 0s 2ms/step - loss: 37964796.6316 - val_loss: 42140820.0000\n",
      "Epoch 102/300\n",
      "37/37 [==============================] - 0s 2ms/step - loss: 38246193.0526 - val_loss: 41451352.0000\n",
      "Epoch 103/300\n",
      "37/37 [==============================] - 0s 2ms/step - loss: 37706789.2632 - val_loss: 40812920.0000\n",
      "Epoch 104/300\n",
      "37/37 [==============================] - 0s 2ms/step - loss: 36165282.9474 - val_loss: 40156992.0000\n",
      "Epoch 105/300\n",
      "37/37 [==============================] - 0s 2ms/step - loss: 35429607.0526 - val_loss: 39480488.0000\n",
      "Epoch 106/300\n",
      "37/37 [==============================] - 0s 2ms/step - loss: 35636806.6316 - val_loss: 38879708.0000\n",
      "Epoch 107/300\n",
      "37/37 [==============================] - 0s 2ms/step - loss: 33121864.6316 - val_loss: 38295500.0000\n",
      "Epoch 108/300\n",
      "37/37 [==============================] - 0s 2ms/step - loss: 32987919.4737 - val_loss: 37761040.0000\n",
      "Epoch 109/300\n",
      "37/37 [==============================] - 0s 2ms/step - loss: 33154873.4737 - val_loss: 37172896.0000\n",
      "Epoch 110/300\n",
      "37/37 [==============================] - 0s 2ms/step - loss: 32988532.1579 - val_loss: 36600588.0000\n",
      "Epoch 111/300\n",
      "37/37 [==============================] - 0s 2ms/step - loss: 32935976.5789 - val_loss: 36000316.0000\n",
      "Epoch 112/300\n",
      "37/37 [==============================] - 0s 1ms/step - loss: 31711659.4737 - val_loss: 35444372.0000\n",
      "Epoch 113/300\n",
      "37/37 [==============================] - 0s 2ms/step - loss: 30970047.3684 - val_loss: 34752612.0000\n",
      "Epoch 114/300\n",
      "37/37 [==============================] - 0s 1ms/step - loss: 30871062.5789 - val_loss: 34200180.0000\n",
      "Epoch 115/300\n",
      "37/37 [==============================] - 0s 2ms/step - loss: 29891324.8421 - val_loss: 33551206.0000\n",
      "Epoch 116/300\n",
      "37/37 [==============================] - 0s 2ms/step - loss: 28453186.7368 - val_loss: 32935168.0000\n",
      "Epoch 117/300\n",
      "37/37 [==============================] - 0s 2ms/step - loss: 28488491.7895 - val_loss: 32478972.0000\n",
      "Epoch 118/300\n",
      "37/37 [==============================] - 0s 2ms/step - loss: 28334722.0526 - val_loss: 31799436.0000\n",
      "Epoch 119/300\n",
      "37/37 [==============================] - 0s 2ms/step - loss: 28303861.2632 - val_loss: 31271624.0000\n",
      "Epoch 120/300\n",
      "37/37 [==============================] - 0s 2ms/step - loss: 28002507.5789 - val_loss: 30797482.0000\n",
      "Epoch 121/300\n",
      "37/37 [==============================] - 0s 2ms/step - loss: 26847261.6316 - val_loss: 30325342.0000\n",
      "Epoch 122/300\n",
      "37/37 [==============================] - 0s 1ms/step - loss: 26613690.5789 - val_loss: 29945180.0000\n",
      "Epoch 123/300\n",
      "37/37 [==============================] - 0s 1ms/step - loss: 25972177.3684 - val_loss: 29534914.0000\n",
      "Epoch 124/300\n",
      "37/37 [==============================] - 0s 2ms/step - loss: 25786592.0526 - val_loss: 29196734.0000\n",
      "Epoch 125/300\n",
      "37/37 [==============================] - 0s 1ms/step - loss: 25507260.7895 - val_loss: 28934250.0000\n",
      "Epoch 126/300\n",
      "37/37 [==============================] - 0s 2ms/step - loss: 25808243.1053 - val_loss: 28603990.0000\n",
      "Epoch 127/300\n",
      "37/37 [==============================] - 0s 1ms/step - loss: 24745698.5263 - val_loss: 28503822.0000\n",
      "Epoch 128/300\n",
      "37/37 [==============================] - 0s 2ms/step - loss: 25023679.8421 - val_loss: 28135496.0000\n",
      "Epoch 129/300\n",
      "37/37 [==============================] - 0s 1ms/step - loss: 25169809.6842 - val_loss: 27916470.0000\n",
      "Epoch 130/300\n",
      "37/37 [==============================] - 0s 2ms/step - loss: 23531424.5789 - val_loss: 27722348.0000\n",
      "Epoch 131/300\n",
      "37/37 [==============================] - 0s 2ms/step - loss: 23202071.5263 - val_loss: 27545686.0000\n",
      "Epoch 132/300\n",
      "37/37 [==============================] - 0s 2ms/step - loss: 23880938.6842 - val_loss: 27505112.0000\n",
      "Epoch 133/300\n",
      "37/37 [==============================] - 0s 2ms/step - loss: 23560958.5789 - val_loss: 27330366.0000\n",
      "Epoch 134/300\n",
      "37/37 [==============================] - 0s 2ms/step - loss: 25632084.7895 - val_loss: 27126678.0000\n",
      "Epoch 135/300\n",
      "37/37 [==============================] - 0s 2ms/step - loss: 23194872.0526 - val_loss: 26940368.0000\n",
      "Epoch 136/300\n",
      "37/37 [==============================] - 0s 2ms/step - loss: 22970994.4211 - val_loss: 26874712.0000\n",
      "Epoch 137/300\n",
      "37/37 [==============================] - 0s 2ms/step - loss: 22494001.3684 - val_loss: 26703206.0000\n",
      "Epoch 138/300\n",
      "37/37 [==============================] - 0s 2ms/step - loss: 22966964.8947 - val_loss: 26666246.0000\n",
      "Epoch 139/300\n",
      "37/37 [==============================] - 0s 1ms/step - loss: 23260478.1579 - val_loss: 26434862.0000\n",
      "Epoch 140/300\n",
      "37/37 [==============================] - 0s 2ms/step - loss: 23559402.5789 - val_loss: 26342732.0000\n",
      "Epoch 141/300\n",
      "37/37 [==============================] - 0s 2ms/step - loss: 23494342.8421 - val_loss: 26310472.0000\n",
      "Epoch 142/300\n",
      "37/37 [==============================] - 0s 2ms/step - loss: 24262429.1053 - val_loss: 26148408.0000\n",
      "Epoch 143/300\n"
     ]
    },
    {
     "name": "stdout",
     "output_type": "stream",
     "text": [
      "37/37 [==============================] - 0s 2ms/step - loss: 22425143.7368 - val_loss: 26114362.0000\n",
      "Epoch 144/300\n",
      "37/37 [==============================] - 0s 2ms/step - loss: 23911663.5789 - val_loss: 26178494.0000\n",
      "Epoch 145/300\n",
      "37/37 [==============================] - 0s 2ms/step - loss: 22793115.2632 - val_loss: 25987396.0000\n",
      "Epoch 146/300\n",
      "37/37 [==============================] - 0s 2ms/step - loss: 22669802.3684 - val_loss: 25818466.0000\n",
      "Epoch 147/300\n",
      "37/37 [==============================] - 0s 2ms/step - loss: 23204787.4737 - val_loss: 25734990.0000\n",
      "Epoch 148/300\n",
      "37/37 [==============================] - 0s 2ms/step - loss: 21908823.8947 - val_loss: 25686876.0000\n",
      "Epoch 149/300\n",
      "37/37 [==============================] - 0s 2ms/step - loss: 21934211.5263 - val_loss: 25604678.0000\n",
      "Epoch 150/300\n",
      "37/37 [==============================] - 0s 2ms/step - loss: 22661673.8947 - val_loss: 25527982.0000\n",
      "Epoch 151/300\n",
      "37/37 [==============================] - 0s 2ms/step - loss: 22349711.9474 - val_loss: 25580424.0000\n",
      "Epoch 152/300\n",
      "37/37 [==============================] - 0s 2ms/step - loss: 21910133.1579 - val_loss: 25418696.0000\n",
      "Epoch 153/300\n",
      "37/37 [==============================] - 0s 2ms/step - loss: 23121104.7895 - val_loss: 25358198.0000\n",
      "Epoch 154/300\n",
      "37/37 [==============================] - 0s 2ms/step - loss: 22406229.0000 - val_loss: 25376976.0000\n",
      "Epoch 155/300\n",
      "37/37 [==============================] - 0s 2ms/step - loss: 21394470.9474 - val_loss: 25193398.0000\n",
      "Epoch 156/300\n",
      "37/37 [==============================] - 0s 2ms/step - loss: 22495754.0000 - val_loss: 25264514.0000\n",
      "Epoch 157/300\n",
      "37/37 [==============================] - 0s 2ms/step - loss: 22030273.4737 - val_loss: 25136310.0000\n",
      "Epoch 158/300\n",
      "37/37 [==============================] - 0s 2ms/step - loss: 21476718.6316 - val_loss: 25145040.0000\n",
      "Epoch 159/300\n",
      "37/37 [==============================] - 0s 2ms/step - loss: 22215707.4211 - val_loss: 25006948.0000\n",
      "Epoch 160/300\n",
      "37/37 [==============================] - 0s 2ms/step - loss: 21504368.1842 - val_loss: 25019012.0000\n",
      "Epoch 161/300\n",
      "37/37 [==============================] - 0s 2ms/step - loss: 21501292.6842 - val_loss: 24863616.0000\n",
      "Epoch 162/300\n",
      "37/37 [==============================] - 0s 1ms/step - loss: 22744114.0000 - val_loss: 24879408.0000\n",
      "Epoch 163/300\n",
      "37/37 [==============================] - 0s 2ms/step - loss: 22471278.3158 - val_loss: 24748718.0000\n",
      "Epoch 164/300\n",
      "37/37 [==============================] - 0s 2ms/step - loss: 21968804.1053 - val_loss: 24691298.0000\n",
      "Epoch 165/300\n",
      "37/37 [==============================] - 0s 2ms/step - loss: 22056703.4211 - val_loss: 24636036.0000\n",
      "Epoch 166/300\n",
      "37/37 [==============================] - 0s 2ms/step - loss: 21751154.4737 - val_loss: 24623252.0000\n",
      "Epoch 167/300\n",
      "37/37 [==============================] - 0s 2ms/step - loss: 21382091.0000 - val_loss: 24567846.0000\n",
      "Epoch 168/300\n",
      "37/37 [==============================] - 0s 2ms/step - loss: 22076594.7368 - val_loss: 24583604.0000\n",
      "Epoch 169/300\n",
      "37/37 [==============================] - 0s 2ms/step - loss: 21640649.7368 - val_loss: 24486250.0000\n",
      "Epoch 170/300\n",
      "37/37 [==============================] - 0s 2ms/step - loss: 21654214.8947 - val_loss: 24401632.0000\n",
      "Epoch 171/300\n",
      "37/37 [==============================] - 0s 2ms/step - loss: 21295974.5263 - val_loss: 24473016.0000\n",
      "Epoch 172/300\n",
      "37/37 [==============================] - 0s 2ms/step - loss: 21531657.7895 - val_loss: 24357170.0000\n",
      "Epoch 173/300\n",
      "37/37 [==============================] - 0s 2ms/step - loss: 22153618.1579 - val_loss: 24456438.0000\n",
      "Epoch 174/300\n",
      "37/37 [==============================] - 0s 2ms/step - loss: 21334263.5789 - val_loss: 24165218.0000\n",
      "Epoch 175/300\n",
      "37/37 [==============================] - 0s 2ms/step - loss: 20828416.0000 - val_loss: 24345790.0000\n",
      "Epoch 176/300\n",
      "37/37 [==============================] - 0s 2ms/step - loss: 21703332.6316 - val_loss: 24070424.0000\n",
      "Epoch 177/300\n",
      "37/37 [==============================] - 0s 2ms/step - loss: 21736993.7895 - val_loss: 24086056.0000\n",
      "Epoch 178/300\n",
      "37/37 [==============================] - 0s 2ms/step - loss: 20680583.2632 - val_loss: 23974324.0000\n",
      "Epoch 179/300\n",
      "37/37 [==============================] - 0s 2ms/step - loss: 21674891.7895 - val_loss: 23929548.0000\n",
      "Epoch 180/300\n",
      "37/37 [==============================] - 0s 2ms/step - loss: 21375337.7368 - val_loss: 24016826.0000\n",
      "Epoch 181/300\n",
      "37/37 [==============================] - 0s 2ms/step - loss: 20890704.7368 - val_loss: 23836350.0000\n",
      "Epoch 182/300\n",
      "37/37 [==============================] - 0s 2ms/step - loss: 21161364.1579 - val_loss: 23764036.0000\n",
      "Epoch 183/300\n",
      "37/37 [==============================] - 0s 2ms/step - loss: 21199055.6842 - val_loss: 23721806.0000\n",
      "Epoch 184/300\n",
      "37/37 [==============================] - 0s 2ms/step - loss: 20530555.5263 - val_loss: 23708034.0000\n",
      "Epoch 185/300\n",
      "37/37 [==============================] - 0s 2ms/step - loss: 21083448.7895 - val_loss: 23633484.0000\n",
      "Epoch 186/300\n",
      "37/37 [==============================] - 0s 2ms/step - loss: 21098781.6842 - val_loss: 23756918.0000\n",
      "Epoch 187/300\n",
      "37/37 [==============================] - 0s 2ms/step - loss: 21625874.5789 - val_loss: 23693882.0000\n",
      "Epoch 188/300\n",
      "37/37 [==============================] - 0s 2ms/step - loss: 21086834.4737 - val_loss: 23818468.0000\n",
      "Epoch 189/300\n",
      "37/37 [==============================] - 0s 2ms/step - loss: 21456982.7368 - val_loss: 23423004.0000\n",
      "Epoch 190/300\n",
      "37/37 [==============================] - 0s 2ms/step - loss: 20621341.9474 - val_loss: 23373052.0000\n",
      "Epoch 191/300\n",
      "37/37 [==============================] - 0s 2ms/step - loss: 20478200.0526 - val_loss: 23382288.0000\n",
      "Epoch 192/300\n",
      "37/37 [==============================] - 0s 2ms/step - loss: 20778707.8947 - val_loss: 23338632.0000\n",
      "Epoch 193/300\n",
      "37/37 [==============================] - 0s 2ms/step - loss: 21091047.6842 - val_loss: 23273834.0000\n",
      "Epoch 194/300\n",
      "37/37 [==============================] - 0s 2ms/step - loss: 20680333.3158 - val_loss: 23404414.0000\n",
      "Epoch 195/300\n",
      "37/37 [==============================] - 0s 2ms/step - loss: 20262826.4737 - val_loss: 23230250.0000\n",
      "Epoch 196/300\n",
      "37/37 [==============================] - 0s 2ms/step - loss: 20982099.4737 - val_loss: 23114450.0000\n",
      "Epoch 197/300\n",
      "37/37 [==============================] - 0s 2ms/step - loss: 20420391.0526 - val_loss: 23120304.0000\n",
      "Epoch 198/300\n",
      "37/37 [==============================] - 0s 2ms/step - loss: 20755899.2632 - val_loss: 23152046.0000\n",
      "Epoch 199/300\n",
      "37/37 [==============================] - 0s 2ms/step - loss: 21145929.2632 - val_loss: 23112752.0000\n",
      "Epoch 200/300\n",
      "37/37 [==============================] - 0s 2ms/step - loss: 20431849.8947 - val_loss: 22947784.0000\n",
      "Epoch 201/300\n",
      "37/37 [==============================] - 0s 2ms/step - loss: 19971780.2632 - val_loss: 22942306.0000\n",
      "Epoch 202/300\n",
      "37/37 [==============================] - 0s 2ms/step - loss: 20349747.2105 - val_loss: 22895708.0000\n",
      "Epoch 203/300\n",
      "37/37 [==============================] - 0s 2ms/step - loss: 20284915.9474 - val_loss: 22838802.0000\n",
      "Epoch 204/300\n",
      "37/37 [==============================] - 0s 2ms/step - loss: 21983392.2632 - val_loss: 22807884.0000\n",
      "Epoch 205/300\n",
      "37/37 [==============================] - 0s 2ms/step - loss: 20029124.8947 - val_loss: 22771908.0000\n",
      "Epoch 206/300\n",
      "37/37 [==============================] - 0s 2ms/step - loss: 20990518.0000 - val_loss: 22794280.0000\n",
      "Epoch 207/300\n",
      "37/37 [==============================] - 0s 2ms/step - loss: 20368549.6316 - val_loss: 22806340.0000\n",
      "Epoch 208/300\n",
      "37/37 [==============================] - 0s 2ms/step - loss: 20220610.9474 - val_loss: 22761228.0000\n",
      "Epoch 209/300\n",
      "37/37 [==============================] - 0s 2ms/step - loss: 19688354.4474 - val_loss: 22692288.0000\n",
      "Epoch 210/300\n",
      "37/37 [==============================] - 0s 2ms/step - loss: 20480048.2632 - val_loss: 22617950.0000\n",
      "Epoch 211/300\n",
      "37/37 [==============================] - 0s 2ms/step - loss: 19965615.0789 - val_loss: 22744528.0000\n",
      "Epoch 212/300\n",
      "37/37 [==============================] - 0s 2ms/step - loss: 20642998.0000 - val_loss: 22607226.0000\n",
      "Epoch 213/300\n",
      "37/37 [==============================] - 0s 2ms/step - loss: 19775616.1579 - val_loss: 22600330.0000\n",
      "Epoch 214/300\n",
      "37/37 [==============================] - 0s 2ms/step - loss: 19273513.2105 - val_loss: 22803816.0000\n",
      "Epoch 215/300\n",
      "37/37 [==============================] - 0s 2ms/step - loss: 20065541.3158 - val_loss: 22479770.0000\n",
      "Epoch 216/300\n",
      "37/37 [==============================] - 0s 2ms/step - loss: 19652661.1579 - val_loss: 22495066.0000\n",
      "Epoch 217/300\n",
      "37/37 [==============================] - 0s 2ms/step - loss: 20173033.5789 - val_loss: 22574814.0000\n",
      "Epoch 218/300\n",
      "37/37 [==============================] - 0s 2ms/step - loss: 19821301.8421 - val_loss: 22473110.0000\n",
      "Epoch 219/300\n",
      "37/37 [==============================] - 0s 2ms/step - loss: 20022055.3684 - val_loss: 22531022.0000\n",
      "Epoch 220/300\n",
      "37/37 [==============================] - 0s 2ms/step - loss: 20596157.5263 - val_loss: 22352974.0000\n",
      "Epoch 221/300\n",
      "37/37 [==============================] - 0s 2ms/step - loss: 19441207.3684 - val_loss: 22348204.0000\n",
      "Epoch 222/300\n",
      "37/37 [==============================] - 0s 2ms/step - loss: 20240534.5263 - val_loss: 22533646.0000\n",
      "Epoch 223/300\n",
      "37/37 [==============================] - 0s 2ms/step - loss: 19688102.6053 - val_loss: 22372450.0000\n",
      "Epoch 224/300\n",
      "37/37 [==============================] - 0s 2ms/step - loss: 19053760.1053 - val_loss: 22343244.0000\n",
      "Epoch 225/300\n",
      "37/37 [==============================] - 0s 2ms/step - loss: 19830320.6842 - val_loss: 22448400.0000\n",
      "Epoch 226/300\n",
      "37/37 [==============================] - 0s 2ms/step - loss: 19931691.4211 - val_loss: 22254678.0000\n",
      "Epoch 227/300\n",
      "37/37 [==============================] - 0s 2ms/step - loss: 20169106.2632 - val_loss: 22268392.0000\n",
      "Epoch 228/300\n",
      "37/37 [==============================] - 0s 2ms/step - loss: 19652213.5789 - val_loss: 22163270.0000\n",
      "Epoch 229/300\n",
      "37/37 [==============================] - ETA: 0s - loss: 21826932.00 - 0s 2ms/step - loss: 20384343.2632 - val_loss: 22167734.0000\n",
      "Epoch 230/300\n",
      "37/37 [==============================] - 0s 2ms/step - loss: 19774432.5263 - val_loss: 22220066.0000\n",
      "Epoch 231/300\n",
      "37/37 [==============================] - 0s 2ms/step - loss: 19236083.2632 - val_loss: 22178060.0000\n",
      "Epoch 232/300\n",
      "37/37 [==============================] - 0s 2ms/step - loss: 19055536.1579 - val_loss: 22120910.0000\n",
      "Epoch 233/300\n",
      "37/37 [==============================] - 0s 2ms/step - loss: 19682114.8947 - val_loss: 22110024.0000\n",
      "Epoch 234/300\n",
      "37/37 [==============================] - 0s 2ms/step - loss: 19803115.4737 - val_loss: 22146636.0000\n",
      "Epoch 235/300\n",
      "37/37 [==============================] - ETA: 0s - loss: 17331006.00 - 0s 1ms/step - loss: 19628028.3158 - val_loss: 22129892.0000\n",
      "Epoch 236/300\n",
      "37/37 [==============================] - 0s 2ms/step - loss: 19112078.7368 - val_loss: 22034740.0000\n",
      "Epoch 237/300\n",
      "37/37 [==============================] - 0s 2ms/step - loss: 19505577.3158 - val_loss: 22062674.0000\n",
      "Epoch 238/300\n",
      "37/37 [==============================] - 0s 2ms/step - loss: 18670851.6842 - val_loss: 21970776.0000\n",
      "Epoch 239/300\n",
      "37/37 [==============================] - 0s 2ms/step - loss: 19462265.8947 - val_loss: 21969234.0000\n",
      "Epoch 240/300\n",
      "37/37 [==============================] - 0s 2ms/step - loss: 20043149.2632 - val_loss: 21969158.0000\n",
      "Epoch 241/300\n",
      "37/37 [==============================] - 0s 2ms/step - loss: 19295840.1053 - val_loss: 21935582.0000\n",
      "Epoch 242/300\n",
      "37/37 [==============================] - 0s 2ms/step - loss: 18698110.1842 - val_loss: 21932488.0000\n",
      "Epoch 243/300\n",
      "37/37 [==============================] - 0s 2ms/step - loss: 19311514.4737 - val_loss: 21863940.0000\n",
      "Epoch 244/300\n",
      "37/37 [==============================] - 0s 2ms/step - loss: 19167811.8158 - val_loss: 22064204.0000\n",
      "Epoch 245/300\n",
      "37/37 [==============================] - 0s 2ms/step - loss: 19302766.9474 - val_loss: 22085658.0000\n",
      "Epoch 246/300\n",
      "37/37 [==============================] - 0s 2ms/step - loss: 18828992.5263 - val_loss: 21866532.0000\n",
      "Epoch 247/300\n",
      "37/37 [==============================] - 0s 2ms/step - loss: 19268110.1579 - val_loss: 21789018.0000\n",
      "Epoch 248/300\n",
      "37/37 [==============================] - 0s 2ms/step - loss: 19750533.4211 - val_loss: 21761144.0000\n",
      "Epoch 249/300\n",
      "37/37 [==============================] - 0s 2ms/step - loss: 19695859.3421 - val_loss: 21734972.0000\n",
      "Epoch 250/300\n",
      "37/37 [==============================] - 0s 2ms/step - loss: 20332453.0526 - val_loss: 21843088.0000\n",
      "Epoch 251/300\n",
      "37/37 [==============================] - 0s 2ms/step - loss: 19483740.0526 - val_loss: 21786984.0000\n",
      "Epoch 252/300\n",
      "37/37 [==============================] - 0s 2ms/step - loss: 19625352.7368 - val_loss: 21746514.0000\n",
      "Epoch 253/300\n",
      "37/37 [==============================] - 0s 2ms/step - loss: 20131028.7895 - val_loss: 21927800.0000\n",
      "Epoch 254/300\n",
      "37/37 [==============================] - 0s 2ms/step - loss: 20014185.6842 - val_loss: 21667422.0000\n",
      "Epoch 255/300\n",
      "37/37 [==============================] - 0s 2ms/step - loss: 19967135.4737 - val_loss: 21731104.0000\n",
      "Epoch 256/300\n",
      "37/37 [==============================] - 0s 2ms/step - loss: 19205868.0000 - val_loss: 21652280.0000\n",
      "Epoch 257/300\n",
      "37/37 [==============================] - 0s 2ms/step - loss: 18874484.7368 - val_loss: 21582288.0000\n",
      "Epoch 258/300\n",
      "37/37 [==============================] - 0s 2ms/step - loss: 19149943.5000 - val_loss: 21671518.0000\n",
      "Epoch 259/300\n",
      "37/37 [==============================] - 0s 2ms/step - loss: 19022521.7895 - val_loss: 21593408.0000\n",
      "Epoch 260/300\n",
      "37/37 [==============================] - 0s 2ms/step - loss: 18699476.4211 - val_loss: 21542972.0000\n",
      "Epoch 261/300\n",
      "37/37 [==============================] - 0s 2ms/step - loss: 19309073.4211 - val_loss: 21603182.0000\n",
      "Epoch 262/300\n",
      "37/37 [==============================] - 0s 2ms/step - loss: 19069464.8421 - val_loss: 21796622.0000\n",
      "Epoch 263/300\n",
      "37/37 [==============================] - 0s 2ms/step - loss: 19258089.6053 - val_loss: 21496218.0000\n",
      "Epoch 264/300\n",
      "37/37 [==============================] - 0s 2ms/step - loss: 18657432.6053 - val_loss: 21517416.0000\n",
      "Epoch 265/300\n",
      "37/37 [==============================] - 0s 2ms/step - loss: 19383142.6316 - val_loss: 21472688.0000\n",
      "Epoch 266/300\n",
      "37/37 [==============================] - 0s 2ms/step - loss: 19496285.7368 - val_loss: 21554742.0000\n",
      "Epoch 267/300\n",
      "37/37 [==============================] - 0s 2ms/step - loss: 19140039.7895 - val_loss: 21573398.0000\n",
      "Epoch 268/300\n",
      "37/37 [==============================] - 0s 2ms/step - loss: 19241871.5263 - val_loss: 21444940.0000\n",
      "Epoch 269/300\n",
      "37/37 [==============================] - 0s 2ms/step - loss: 19400217.3684 - val_loss: 21590224.0000\n",
      "Epoch 270/300\n",
      "37/37 [==============================] - 0s 2ms/step - loss: 18883768.5789 - val_loss: 21443256.0000\n",
      "Epoch 271/300\n",
      "37/37 [==============================] - 0s 2ms/step - loss: 18997620.8684 - val_loss: 21540384.0000\n",
      "Epoch 272/300\n",
      "37/37 [==============================] - 0s 2ms/step - loss: 18799431.4211 - val_loss: 21354522.0000\n",
      "Epoch 273/300\n",
      "37/37 [==============================] - 0s 2ms/step - loss: 19275521.0000 - val_loss: 21396138.0000\n",
      "Epoch 274/300\n",
      "37/37 [==============================] - 0s 2ms/step - loss: 19841775.8421 - val_loss: 21406818.0000\n",
      "Epoch 275/300\n",
      "37/37 [==============================] - 0s 2ms/step - loss: 19066831.9474 - val_loss: 21391116.0000\n",
      "Epoch 276/300\n",
      "37/37 [==============================] - 0s 2ms/step - loss: 19145165.9474 - val_loss: 21362606.0000\n",
      "Epoch 277/300\n",
      "37/37 [==============================] - 0s 2ms/step - loss: 19360420.7368 - val_loss: 21334416.0000\n",
      "Epoch 278/300\n",
      "37/37 [==============================] - 0s 2ms/step - loss: 19405659.2632 - val_loss: 21448790.0000\n",
      "Epoch 279/300\n",
      "37/37 [==============================] - 0s 2ms/step - loss: 18585128.7895 - val_loss: 21399044.0000\n",
      "Epoch 280/300\n",
      "37/37 [==============================] - 0s 2ms/step - loss: 18785345.0000 - val_loss: 21192902.0000\n",
      "Epoch 281/300\n",
      "37/37 [==============================] - 0s 2ms/step - loss: 19022374.7368 - val_loss: 21204602.0000\n",
      "Epoch 282/300\n",
      "37/37 [==============================] - 0s 2ms/step - loss: 17986199.5000 - val_loss: 21206662.0000\n",
      "Epoch 283/300\n",
      "37/37 [==============================] - 0s 2ms/step - loss: 18434864.5789 - val_loss: 21178578.0000\n",
      "Epoch 284/300\n",
      "37/37 [==============================] - 0s 2ms/step - loss: 19837595.0526 - val_loss: 21193312.0000\n"
     ]
    },
    {
     "name": "stdout",
     "output_type": "stream",
     "text": [
      "Epoch 285/300\n",
      "37/37 [==============================] - 0s 2ms/step - loss: 19420684.7895 - val_loss: 21160018.0000\n",
      "Epoch 286/300\n",
      "37/37 [==============================] - 0s 2ms/step - loss: 18845690.0789 - val_loss: 21222352.0000\n",
      "Epoch 287/300\n",
      "37/37 [==============================] - 0s 2ms/step - loss: 19227448.6842 - val_loss: 21144996.0000\n",
      "Epoch 288/300\n",
      "37/37 [==============================] - 0s 2ms/step - loss: 18465360.0526 - val_loss: 21133384.0000\n",
      "Epoch 289/300\n",
      "37/37 [==============================] - 0s 2ms/step - loss: 19147210.8421 - val_loss: 21045974.0000\n",
      "Epoch 290/300\n",
      "37/37 [==============================] - 0s 1ms/step - loss: 19345189.5263 - val_loss: 21155626.0000\n",
      "Epoch 291/300\n",
      "37/37 [==============================] - 0s 2ms/step - loss: 18907067.6316 - val_loss: 21127372.0000\n",
      "Epoch 292/300\n",
      "37/37 [==============================] - 0s 1ms/step - loss: 19255762.7368 - val_loss: 21232946.0000\n",
      "Epoch 293/300\n",
      "37/37 [==============================] - 0s 2ms/step - loss: 18219798.8684 - val_loss: 20962522.0000\n",
      "Epoch 294/300\n",
      "37/37 [==============================] - 0s 2ms/step - loss: 18602747.5000 - val_loss: 20962944.0000\n",
      "Epoch 295/300\n",
      "37/37 [==============================] - 0s 2ms/step - loss: 19119541.9474 - val_loss: 20974898.0000\n",
      "Epoch 296/300\n",
      "37/37 [==============================] - 0s 2ms/step - loss: 18412877.1053 - val_loss: 20930174.0000\n",
      "Epoch 297/300\n",
      "37/37 [==============================] - 0s 2ms/step - loss: 19038958.1579 - val_loss: 21012934.0000\n",
      "Epoch 298/300\n",
      "37/37 [==============================] - 0s 2ms/step - loss: 18523190.7105 - val_loss: 20975276.0000\n",
      "Epoch 299/300\n",
      "37/37 [==============================] - 0s 2ms/step - loss: 18925191.8947 - val_loss: 20906810.0000\n",
      "Epoch 300/300\n",
      "37/37 [==============================] - 0s 2ms/step - loss: 18307281.8947 - val_loss: 20919486.0000\n"
     ]
    },
    {
     "data": {
      "text/plain": [
       "<tensorflow.python.keras.callbacks.History at 0x1c0c29c8820>"
      ]
     },
     "execution_count": 42,
     "metadata": {},
     "output_type": "execute_result"
    }
   ],
   "source": [
    "model.fit(x=x_train,y=y_train,validation_data=(x_test,y_test),batch_size=250,epochs=300) # validation doğrulama\n",
    "# doğrulamayı eğitirken yapıyoruz tuple verdik"
   ]
  },
  {
   "cell_type": "code",
   "execution_count": 43,
   "metadata": {},
   "outputs": [],
   "source": [
    "kayipVerisi=pd.DataFrame(model.history.history)"
   ]
  },
  {
   "cell_type": "code",
   "execution_count": 44,
   "metadata": {},
   "outputs": [
    {
     "data": {
      "text/html": [
       "<div>\n",
       "<style scoped>\n",
       "    .dataframe tbody tr th:only-of-type {\n",
       "        vertical-align: middle;\n",
       "    }\n",
       "\n",
       "    .dataframe tbody tr th {\n",
       "        vertical-align: top;\n",
       "    }\n",
       "\n",
       "    .dataframe thead th {\n",
       "        text-align: right;\n",
       "    }\n",
       "</style>\n",
       "<table border=\"1\" class=\"dataframe\">\n",
       "  <thead>\n",
       "    <tr style=\"text-align: right;\">\n",
       "      <th></th>\n",
       "      <th>loss</th>\n",
       "      <th>val_loss</th>\n",
       "    </tr>\n",
       "  </thead>\n",
       "  <tbody>\n",
       "    <tr>\n",
       "      <th>0</th>\n",
       "      <td>674382208.0</td>\n",
       "      <td>682888448.0</td>\n",
       "    </tr>\n",
       "    <tr>\n",
       "      <th>1</th>\n",
       "      <td>674351680.0</td>\n",
       "      <td>682833344.0</td>\n",
       "    </tr>\n",
       "    <tr>\n",
       "      <th>2</th>\n",
       "      <td>674256768.0</td>\n",
       "      <td>682683072.0</td>\n",
       "    </tr>\n",
       "    <tr>\n",
       "      <th>3</th>\n",
       "      <td>674022656.0</td>\n",
       "      <td>682318976.0</td>\n",
       "    </tr>\n",
       "    <tr>\n",
       "      <th>4</th>\n",
       "      <td>673448256.0</td>\n",
       "      <td>681430912.0</td>\n",
       "    </tr>\n",
       "    <tr>\n",
       "      <th>...</th>\n",
       "      <td>...</td>\n",
       "      <td>...</td>\n",
       "    </tr>\n",
       "    <tr>\n",
       "      <th>295</th>\n",
       "      <td>18904436.0</td>\n",
       "      <td>20930174.0</td>\n",
       "    </tr>\n",
       "    <tr>\n",
       "      <th>296</th>\n",
       "      <td>18935800.0</td>\n",
       "      <td>21012934.0</td>\n",
       "    </tr>\n",
       "    <tr>\n",
       "      <th>297</th>\n",
       "      <td>18907414.0</td>\n",
       "      <td>20975276.0</td>\n",
       "    </tr>\n",
       "    <tr>\n",
       "      <th>298</th>\n",
       "      <td>18861152.0</td>\n",
       "      <td>20906810.0</td>\n",
       "    </tr>\n",
       "    <tr>\n",
       "      <th>299</th>\n",
       "      <td>18856178.0</td>\n",
       "      <td>20919486.0</td>\n",
       "    </tr>\n",
       "  </tbody>\n",
       "</table>\n",
       "<p>300 rows × 2 columns</p>\n",
       "</div>"
      ],
      "text/plain": [
       "            loss     val_loss\n",
       "0    674382208.0  682888448.0\n",
       "1    674351680.0  682833344.0\n",
       "2    674256768.0  682683072.0\n",
       "3    674022656.0  682318976.0\n",
       "4    673448256.0  681430912.0\n",
       "..           ...          ...\n",
       "295   18904436.0   20930174.0\n",
       "296   18935800.0   21012934.0\n",
       "297   18907414.0   20975276.0\n",
       "298   18861152.0   20906810.0\n",
       "299   18856178.0   20919486.0\n",
       "\n",
       "[300 rows x 2 columns]"
      ]
     },
     "execution_count": 44,
     "metadata": {},
     "output_type": "execute_result"
    }
   ],
   "source": [
    "kayipVerisi"
   ]
  },
  {
   "cell_type": "code",
   "execution_count": 45,
   "metadata": {},
   "outputs": [
    {
     "data": {
      "text/plain": [
       "<AxesSubplot:>"
      ]
     },
     "execution_count": 45,
     "metadata": {},
     "output_type": "execute_result"
    },
    {
     "data": {
      "image/png": "[encoded data removed]",
      "text/plain": [
       "<Figure size 432x288 with 1 Axes>"
      ]
     },
     "metadata": {
      "needs_background": "light"
     },
     "output_type": "display_data"
    }
   ],
   "source": [
    "kayipVerisi.plot()"
   ]
  },
  {
   "cell_type": "code",
   "execution_count": 46,
   "metadata": {},
   "outputs": [],
   "source": [
    "from sklearn.metrics import mean_squared_error, mean_absolute_error"
   ]
  },
  {
   "cell_type": "code",
   "execution_count": 47,
   "metadata": {},
   "outputs": [],
   "source": [
    "tahminDizisi=model.predict(x_test)"
   ]
  },
  {
   "cell_type": "code",
   "execution_count": 48,
   "metadata": {},
   "outputs": [
    {
     "data": {
      "text/plain": [
       "(3897, 1)"
      ]
     },
     "execution_count": 48,
     "metadata": {},
     "output_type": "execute_result"
    }
   ],
   "source": [
    "tahminDizisi.shape"
   ]
  },
  {
   "cell_type": "code",
   "execution_count": 49,
   "metadata": {},
   "outputs": [
    {
     "data": {
      "text/plain": [
       "3268.858540931175"
      ]
     },
     "execution_count": 49,
     "metadata": {},
     "output_type": "execute_result"
    }
   ],
   "source": [
    "mean_absolute_error(y_test,tahminDizisi)"
   ]
  },
  {
   "cell_type": "code",
   "execution_count": 50,
   "metadata": {
    "scrolled": true
   },
   "outputs": [
    {
     "data": {
      "text/plain": [
       "[<matplotlib.lines.Line2D at 0x1c0cb2e3f10>]"
      ]
     },
     "execution_count": 50,
     "metadata": {},
     "output_type": "execute_result"
    },
    {
     "data": {
      "image/png": "[encoded data removed]",
      "text/plain": [
       "<Figure size 432x288 with 1 Axes>"
      ]
     },
     "metadata": {
      "needs_background": "light"
     },
     "output_type": "display_data"
    }
   ],
   "source": [
    "plt.figure()\n",
    "plt.scatter(y_test,tahminDizisi)\n",
    "plt.plot(y_test,y_test,\"g-\")"
   ]
  },
  {
   "cell_type": "markdown",
   "metadata": {},
   "source": [
    "VERİ SETİNDEN BİR VERİNİN FİYATINI SİLİP TAHMİN ETMEYE ÇALIŞACAĞIZ\n",
    "\n",
    "VERİMİZ BU"
   ]
  },
  {
   "cell_type": "code",
   "execution_count": 51,
   "metadata": {},
   "outputs": [
    {
     "data": {
      "text/plain": [
       "year           2020.0\n",
       "price         65980.0\n",
       "mileage        3999.0\n",
       "tax             145.0\n",
       "mpg              28.0\n",
       "engineSize        4.0\n",
       "Name: 3191, dtype: float64"
      ]
     },
     "execution_count": 51,
     "metadata": {},
     "output_type": "execute_result"
    }
   ],
   "source": [
    "dataFrame.iloc[2]"
   ]
  },
  {
   "cell_type": "code",
   "execution_count": 52,
   "metadata": {},
   "outputs": [
    {
     "data": {
      "text/plain": [
       "year          2020.0\n",
       "mileage       3999.0\n",
       "tax            145.0\n",
       "mpg             28.0\n",
       "engineSize       4.0\n",
       "Name: 3191, dtype: float64"
      ]
     },
     "execution_count": 52,
     "metadata": {},
     "output_type": "execute_result"
    }
   ],
   "source": [
    "yeniAraba=dataFrame.drop(\"price\",axis=1).iloc[2]\n",
    "yeniAraba"
   ]
  },
  {
   "cell_type": "code",
   "execution_count": 53,
   "metadata": {},
   "outputs": [
    {
     "data": {
      "text/plain": [
       "pandas.core.series.Series"
      ]
     },
     "execution_count": 53,
     "metadata": {},
     "output_type": "execute_result"
    }
   ],
   "source": [
    "type(yeniAraba)"
   ]
  },
  {
   "cell_type": "code",
   "execution_count": 54,
   "metadata": {},
   "outputs": [
    {
     "data": {
      "text/plain": [
       "numpy.ndarray"
      ]
     },
     "execution_count": 54,
     "metadata": {},
     "output_type": "execute_result"
    }
   ],
   "source": [
    "type(yeniAraba.values)"
   ]
  },
  {
   "cell_type": "code",
   "execution_count": 55,
   "metadata": {},
   "outputs": [],
   "source": [
    "yeniAraba=scaler.transform(yeniAraba.values.reshape(-1,5))"
   ]
  },
  {
   "cell_type": "code",
   "execution_count": 56,
   "metadata": {},
   "outputs": [
    {
     "data": {
      "text/plain": [
       "array([[59520.363]], dtype=float32)"
      ]
     },
     "execution_count": 56,
     "metadata": {},
     "output_type": "execute_result"
    }
   ],
   "source": [
    "model.predict(yeniAraba)"
   ]
  },
  {
   "cell_type": "markdown",
   "metadata": {},
   "source": [
    "KENDİ DENEMEM \n",
    "\n",
    "VERİYİ KENDİM UYDURDUM. FİYAT HARİÇ HEPSİNİ VERDİM VE FİYATI BULMAYA ÇALIŞTIM"
   ]
  },
  {
   "cell_type": "code",
   "execution_count": 57,
   "metadata": {},
   "outputs": [],
   "source": [
    "gercekVeri=[1996,20000,60,50,4.3] # year, mileage, tax, mpg(mile per gallon), engine size\n",
    "gercekVeriDF=pd.DataFrame(gercekVeri)"
   ]
  },
  {
   "cell_type": "code",
   "execution_count": 58,
   "metadata": {},
   "outputs": [],
   "source": [
    "gercekVeriDF=scaler.transform(gercekVeriDF.values.reshape(-1,5))"
   ]
  },
  {
   "cell_type": "markdown",
   "metadata": {},
   "source": [
    "SONUÇ "
   ]
  },
  {
   "cell_type": "code",
   "execution_count": 59,
   "metadata": {},
   "outputs": [
    {
     "data": {
      "text/plain": [
       "array([[3383.8372]], dtype=float32)"
      ]
     },
     "execution_count": 59,
     "metadata": {},
     "output_type": "execute_result"
    }
   ],
   "source": [
    "model.predict(gercekVeriDF)"
   ]
  },
  {
   "cell_type": "code",
   "execution_count": 60,
   "metadata": {},
   "outputs": [
    {
     "data": {
      "text/html": [
       "<div>\n",
       "<style scoped>\n",
       "    .dataframe tbody tr th:only-of-type {\n",
       "        vertical-align: middle;\n",
       "    }\n",
       "\n",
       "    .dataframe tbody tr th {\n",
       "        vertical-align: top;\n",
       "    }\n",
       "\n",
       "    .dataframe thead th {\n",
       "        text-align: right;\n",
       "    }\n",
       "</style>\n",
       "<table border=\"1\" class=\"dataframe\">\n",
       "  <thead>\n",
       "    <tr style=\"text-align: right;\">\n",
       "      <th></th>\n",
       "      <th>year</th>\n",
       "      <th>price</th>\n",
       "      <th>mileage</th>\n",
       "      <th>tax</th>\n",
       "      <th>mpg</th>\n",
       "      <th>engineSize</th>\n",
       "    </tr>\n",
       "  </thead>\n",
       "  <tbody>\n",
       "    <tr>\n",
       "      <th>10466</th>\n",
       "      <td>2008</td>\n",
       "      <td>5999</td>\n",
       "      <td>91000</td>\n",
       "      <td>230</td>\n",
       "      <td>42.2</td>\n",
       "      <td>2.1</td>\n",
       "    </tr>\n",
       "    <tr>\n",
       "      <th>11900</th>\n",
       "      <td>2010</td>\n",
       "      <td>5999</td>\n",
       "      <td>68000</td>\n",
       "      <td>145</td>\n",
       "      <td>56.5</td>\n",
       "      <td>2.1</td>\n",
       "    </tr>\n",
       "    <tr>\n",
       "      <th>12011</th>\n",
       "      <td>1999</td>\n",
       "      <td>5995</td>\n",
       "      <td>34000</td>\n",
       "      <td>145</td>\n",
       "      <td>24.6</td>\n",
       "      <td>3.2</td>\n",
       "    </tr>\n",
       "    <tr>\n",
       "      <th>11618</th>\n",
       "      <td>2007</td>\n",
       "      <td>5995</td>\n",
       "      <td>50500</td>\n",
       "      <td>300</td>\n",
       "      <td>34.5</td>\n",
       "      <td>1.8</td>\n",
       "    </tr>\n",
       "    <tr>\n",
       "      <th>12004</th>\n",
       "      <td>2010</td>\n",
       "      <td>5995</td>\n",
       "      <td>121000</td>\n",
       "      <td>300</td>\n",
       "      <td>39.8</td>\n",
       "      <td>3.0</td>\n",
       "    </tr>\n",
       "  </tbody>\n",
       "</table>\n",
       "</div>"
      ],
      "text/plain": [
       "       year  price  mileage  tax   mpg  engineSize\n",
       "10466  2008   5999    91000  230  42.2         2.1\n",
       "11900  2010   5999    68000  145  56.5         2.1\n",
       "12011  1999   5995    34000  145  24.6         3.2\n",
       "11618  2007   5995    50500  300  34.5         1.8\n",
       "12004  2010   5995   121000  300  39.8         3.0"
      ]
     },
     "execution_count": 60,
     "metadata": {},
     "output_type": "execute_result"
    }
   ],
   "source": [
    "dataFrame[dataFrame.price<6000].head()"
   ]
  },
  {
   "cell_type": "code",
   "execution_count": 61,
   "metadata": {},
   "outputs": [
    {
     "data": {
      "text/html": [
       "<div>\n",
       "<style scoped>\n",
       "    .dataframe tbody tr th:only-of-type {\n",
       "        vertical-align: middle;\n",
       "    }\n",
       "\n",
       "    .dataframe tbody tr th {\n",
       "        vertical-align: top;\n",
       "    }\n",
       "\n",
       "    .dataframe thead th {\n",
       "        text-align: right;\n",
       "    }\n",
       "</style>\n",
       "<table border=\"1\" class=\"dataframe\">\n",
       "  <thead>\n",
       "    <tr style=\"text-align: right;\">\n",
       "      <th></th>\n",
       "      <th>year</th>\n",
       "      <th>price</th>\n",
       "      <th>mileage</th>\n",
       "      <th>tax</th>\n",
       "      <th>mpg</th>\n",
       "      <th>engineSize</th>\n",
       "    </tr>\n",
       "  </thead>\n",
       "  <tbody>\n",
       "    <tr>\n",
       "      <th>3263</th>\n",
       "      <td>2017</td>\n",
       "      <td>32695</td>\n",
       "      <td>20000</td>\n",
       "      <td>145</td>\n",
       "      <td>33.6</td>\n",
       "      <td>3.0</td>\n",
       "    </tr>\n",
       "    <tr>\n",
       "      <th>7729</th>\n",
       "      <td>2016</td>\n",
       "      <td>29189</td>\n",
       "      <td>20000</td>\n",
       "      <td>260</td>\n",
       "      <td>36.2</td>\n",
       "      <td>3.0</td>\n",
       "    </tr>\n",
       "    <tr>\n",
       "      <th>9679</th>\n",
       "      <td>2016</td>\n",
       "      <td>28500</td>\n",
       "      <td>20000</td>\n",
       "      <td>205</td>\n",
       "      <td>47.9</td>\n",
       "      <td>2.1</td>\n",
       "    </tr>\n",
       "    <tr>\n",
       "      <th>5722</th>\n",
       "      <td>2019</td>\n",
       "      <td>24990</td>\n",
       "      <td>20000</td>\n",
       "      <td>145</td>\n",
       "      <td>62.8</td>\n",
       "      <td>1.5</td>\n",
       "    </tr>\n",
       "    <tr>\n",
       "      <th>3634</th>\n",
       "      <td>2017</td>\n",
       "      <td>24299</td>\n",
       "      <td>20000</td>\n",
       "      <td>145</td>\n",
       "      <td>54.3</td>\n",
       "      <td>3.0</td>\n",
       "    </tr>\n",
       "  </tbody>\n",
       "</table>\n",
       "</div>"
      ],
      "text/plain": [
       "      year  price  mileage  tax   mpg  engineSize\n",
       "3263  2017  32695    20000  145  33.6         3.0\n",
       "7729  2016  29189    20000  260  36.2         3.0\n",
       "9679  2016  28500    20000  205  47.9         2.1\n",
       "5722  2019  24990    20000  145  62.8         1.5\n",
       "3634  2017  24299    20000  145  54.3         3.0"
      ]
     },
     "execution_count": 61,
     "metadata": {},
     "output_type": "execute_result"
    }
   ],
   "source": [
    "dataFrame[dataFrame.mileage==20000].head()"
   ]
  },
  {
   "cell_type": "code",
   "execution_count": null,
   "metadata": {},
   "outputs": [],
   "source": []
  }
 ],
 "metadata": {
  "kernelspec": {
   "display_name": "Python 3 (ipykernel)",
   "language": "python",
   "name": "python3"
  },
  "language_info": {
   "codemirror_mode": {
    "name": "ipython",
    "version": 3
   },
   "file_extension": ".py",
   "mimetype": "text/x-python",
   "name": "python",
   "nbconvert_exporter": "python",
   "pygments_lexer": "ipython3",
   "version": "3.9.6"
  }
 },
 "nbformat": 4,
 "nbformat_minor": 4
}
